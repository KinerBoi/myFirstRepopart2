{
 "cells": [
  {
   "cell_type": "markdown",
   "metadata": {},
   "source": [
    "# Printing out the values of Fibonacci Sequence using different methods!\n",
    ">Learning how to iterate code in different ways, example of a Fibonacci Sequence used\n",
    "- categories: [CB]"
   ]
  },
  {
   "cell_type": "markdown",
   "metadata": {},
   "source": [
    "# Mr.Mort's original code"
   ]
  },
  {
   "cell_type": "code",
   "execution_count": null,
   "metadata": {
    "vscode": {
     "languageId": "java"
    }
   },
   "outputs": [],
   "source": [
    "/*\n",
    " * Creator: Nighthawk Coding Society\n",
    " * Mini Lab Name: Fibonacci sequence, featuring a Stream Algorithm\n",
    " * \n",
    " */\n",
    "\n",
    "import java.util.ArrayList;  \n",
    "import java.util.HashMap;\n",
    "import java.util.stream.Stream;\n",
    "\n",
    "/* Objective will require changing to abstract class with one or more abstract methods below */\n",
    "abstract class Fibo {\n",
    "    String name;  // name or title of method\n",
    "    int size;  // nth sequence\n",
    "    int hashID;  // counter for hashIDs in hash map\n",
    "    ArrayList<Long> list;   // captures current Fibonacci sequence\n",
    "    HashMap<Integer, Object> hash;  // captures each sequence leading to final result\n",
    "\n",
    "    /*\n",
    "     Zero parameter constructor uses Telescoping technique to allow setting of the required value nth\n",
    "     @param: none\n",
    "     */\n",
    "    public Fibo() {\n",
    "        this(20); // telescope to avoid code duplication, using default as 20\n",
    "    }\n",
    "\n",
    "    /*\n",
    "     Construct the nth fibonacci number\n",
    "     @param: nth number, the value is constrained to 92 because of overflow in a long\n",
    "     */\n",
    "    public Fibo(int nth) {\n",
    "        this.size = nth;\n",
    "        this.list = new ArrayList<>();\n",
    "        this.hashID = 0;\n",
    "        this.hash = new HashMap<>();\n",
    "        //initialize fibonacci and time mvc\n",
    "        this.init();\n",
    "    }\n",
    "\n",
    "    /*\n",
    "     This Method should be \"abstract\"\n",
    "     Leave method as protected, as it is only authorized to extender of the class\n",
    "     Make new class that extends and defines init()\n",
    "     Inside references within this class would change from this to super\n",
    "     Repeat process using for, while, recursion\n",
    "     */\n",
    "    abstract protected void init(); \n",
    "        \n",
    "\n",
    "    /*\n",
    "     Number is added to fibonacci sequence, current state of \"list\" is added to hash for hashID \"num\"\n",
    "     */\n",
    "    public void setData(long num) {\n",
    "        list.add(num);\n",
    "        hash.put(this.hashID++, list.clone());\n",
    "    }\n",
    "\n",
    "    /*\n",
    "     Custom Getter to return last element in fibonacci sequence\n",
    "     */\n",
    "    public long getNth() {\n",
    "        return list.get(this.size - 1);\n",
    "    }\n",
    "\n",
    "    /*\n",
    "     Custom Getter to return last fibonacci sequence in HashMap\n",
    "     */\n",
    "    public Object getNthSeq(int i) {\n",
    "        return hash.get(i);\n",
    "    }\n",
    "\n",
    "    /*\n",
    "     Console/Terminal supported print method\n",
    "     */\n",
    "    public void print() {\n",
    "        System.out.println(\"Init method = \" + this.name);\n",
    "        System.out.println(\"fibonacci Number \" + this.size + \" = \" + this.getNth());\n",
    "        System.out.println(\"fibonacci List = \" + this.list);\n",
    "        System.out.println(\"fibonacci Hashmap = \" + this.hash);\n",
    "        for (int i=0 ; i<this.size; i++ ) {\n",
    "            System.out.println(\"fibonacci Sequence \" + (i+1) + \" = \" + this.getNthSeq(i));\n",
    "        }\n",
    "    }\n",
    "\n",
    "    /*\n",
    "    Tester class method.  If this becomes abstract you will not be able to test it directly ...\n",
    "    Change this method to  call \"main\" class of each of the extended classes\n",
    "     */\n",
    "    static public void main(String[] args) {\n",
    "        Fibo fib = new Fibo();\n",
    "        fib.print();\n",
    "    }\n",
    "}\n",
    "Fibo.main(null);\n"
   ]
  },
  {
   "cell_type": "code",
   "execution_count": 54,
   "metadata": {
    "vscode": {
     "languageId": "java"
    }
   },
   "outputs": [],
   "source": [
    "abstract class fibonacci { //defining the class \n",
    "    public void printValues (int count){ //function which prints the values\n",
    "        int[] numbers = getfib(count); //getting values and storing into Array\n",
    "        for(int i =0; i<numbers.length; i++){ //for loop to reiterate code\n",
    "            System.out.println(numbers[i]); //prints out values in each index of array\n",
    "        }\n",
    "    }\n",
    "    abstract int[] getfib(int count);\n",
    "}"
   ]
  },
  {
   "cell_type": "markdown",
   "metadata": {},
   "source": [
    "# The Recursion loop for the edited code"
   ]
  },
  {
   "cell_type": "code",
   "execution_count": 55,
   "metadata": {
    "vscode": {
     "languageId": "java"
    }
   },
   "outputs": [],
   "source": [
    "\n",
    "public int fibo (int count) {\n",
    "\n",
    "    if(count == 0)\n",
    "        return 0;\n",
    "    else if(count == 1)\n",
    "      return 1;\n",
    "   else\n",
    "      return fibo(count - 1) + fibo(count - 2);\n",
    "  }\n"
   ]
  },
  {
   "cell_type": "markdown",
   "metadata": {},
   "source": [
    "# The For loop for the edited code"
   ]
  },
  {
   "cell_type": "code",
   "execution_count": 56,
   "metadata": {
    "vscode": {
     "languageId": "java"
    }
   },
   "outputs": [
    {
     "name": "stdout",
     "output_type": "stream",
     "text": [
      "0\n",
      "1\n",
      "2\n",
      "3\n",
      "5\n",
      "8\n",
      "13\n",
      "21\n",
      "34\n",
      "55\n",
      "89\n"
     ]
    }
   ],
   "source": [
    "class fibonacciFor extends fibonacci{ //making a class extending the main abstract class to do the for loop\n",
    "  \n",
    "    int[] getfib(int count) {   //array to store values\n",
    "      int[] numbers = new int[count+1]; \n",
    "         int fib1 = 0, fib2 = 1; //defining the variables which will be assigned fibo values\n",
    "    \n",
    "        for (int i = 1; i <= count; ++i) { //for loop which iterates \n",
    "          // compute the next term\n",
    "          int fibNext = fib1 + fib2;\n",
    "          fib1 = fib2;\n",
    "          fib2 = fibNext;\n",
    "          numbers[i] = fibNext; //added value added into array\n",
    "        }\n",
    "        return numbers; //array returned \n",
    "      }\n",
    "  \n",
    "      public static void main(){\n",
    "        fibonacciFor myFibonacciFor = new fibonacciFor(); //function printed in main\n",
    "        myFibonacciFor.printValues(10);\n",
    "      }\n",
    "    }\n",
    "  \n",
    "    fibonacciFor.main(); //the method is ran \n",
    "  "
   ]
  },
  {
   "cell_type": "markdown",
   "metadata": {},
   "source": [
    "# The While loop for the edited code"
   ]
  },
  {
   "cell_type": "code",
   "execution_count": 57,
   "metadata": {
    "vscode": {
     "languageId": "java"
    }
   },
   "outputs": [
    {
     "name": "stdout",
     "output_type": "stream",
     "text": [
      "1\n",
      "2\n",
      "3\n",
      "5\n",
      "8\n",
      "13\n",
      "21\n",
      "34\n",
      "55\n",
      "89\n"
     ]
    }
   ],
   "source": [
    "class fibonacciWhile extends fibonacci { //defining a class \n",
    "\n",
    "\tint index = 0; //defining an index to iterate code \n",
    "\n",
    "    int[] getfib(int count) { //passing  count to array get fib\n",
    "\t\tint[] numbers = new int[count]; //defining a new array numbers with input count\n",
    "\t\t   int fib1 = 0, fib2 = 1;\n",
    "\t  \n",
    "\t\t  while(index < count) { //makes the index run for what count equals\n",
    "\t\t\t// compute the next term\n",
    "\t\t\tint fibNext = fib1 + fib2; //passing values \n",
    "\t\t\tfib1 = fib2;\n",
    "\t\t\tfib2 = fibNext;\n",
    "\t\t\tnumbers[index] = fibNext;\n",
    "\t\t\tindex++; //iterating loop\n",
    "\t\t  }\n",
    "\t\t  return numbers; //returning array \n",
    "\t\t}\n",
    "\t\n",
    "\t\tpublic static void main(){\n",
    "\t\t  fibonacciWhile myfibonacciWhile = new fibonacciWhile(); //printing out values in main\n",
    "\t\t  myfibonacciWhile.printValues(10);\n",
    "\t\t}\n",
    "\t  }\n",
    "\t\n",
    "\t  fibonacciWhile.main(); //running code\n",
    "  "
   ]
  },
  {
   "cell_type": "markdown",
   "metadata": {},
   "source": [
    "# Skill sets matched\n",
    "-Skill 1B was matched, as different types of iterations such as recursions, while loops and for loops were used\n",
    "-Skill 4B was matched, as the outputs for the different iterations was the same and everything matches\n",
    "-Skill 5C was matchesd  as comments in code help reader understand what each segment is supposed to do"
   ]
  }
 ],
 "metadata": {
  "kernelspec": {
   "display_name": "Java",
   "language": "java",
   "name": "java"
  },
  "language_info": {
   "codemirror_mode": "java",
   "file_extension": ".jshell",
   "mimetype": "text/x-java-source",
   "name": "Java",
   "pygments_lexer": "java",
   "version": "11.0.16+8-post-Ubuntu-0ubuntu120.04"
  },
  "orig_nbformat": 4
 },
 "nbformat": 4,
 "nbformat_minor": 2
}
