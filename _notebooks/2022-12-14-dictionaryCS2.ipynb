{
 "cells": [
  {
   "cell_type": "markdown",
   "metadata": {},
   "source": [
    "# Unit 1-5 Review + Vocab List\n",
    "> List of CS terms list\n",
    "- categories: [CB]"
   ]
  },
  {
   "attachments": {},
   "cell_type": "markdown",
   "metadata": {},
   "source": [
    "# Unit 6\n",
    "- array is a type of data structure which cntains a collection of data\n",
    "    - different thant ArrayLists\n",
    "- Data in arrya can be primitive or referrenced\n",
    "    - Int, float, char, vs String, array, class\n",
    "    - lowercase for primitive, uppercase for referenced\n",
    "- Element is value in a box of array, index is position of box, array length is total length of array\n",
    "- How to declare an array\n",
    "    -Examples: \n",
    "        - int[] array dom  = new int [9]; (saying array length) or int[] array dom = {1,2,3,4,5}\n",
    "- Homework: "
   ]
  },
  {
   "cell_type": "code",
   "execution_count": 2,
   "metadata": {
    "vscode": {
     "languageId": "java"
    }
   },
   "outputs": [],
   "source": [
    "//Unit 6 code example (for and enhanced for loop)\n",
    "int [] values = {2,5,1};\n",
    "int total = 0;\n",
    "\n",
    "for(int i = 0; i < values.length; i++) { //adding values of an array through a for loop\n",
    "    total += values[i];\n",
    "}\n",
    "\n",
    "for(int element : values) { //adding values of an array through an enhanced for loop\n",
    "    total += element;\n",
    "}\n"
   ]
  },
  {
   "attachments": {},
   "cell_type": "markdown",
   "metadata": {},
   "source": [
    "# Unit 7\n",
    "- ArrayLists are like arrays, but can have vsize changed"
   ]
  }
 ],
 "metadata": {
  "kernelspec": {
   "display_name": "Java",
   "language": "java",
   "name": "java"
  },
  "language_info": {
   "codemirror_mode": "java",
   "file_extension": ".jshell",
   "mimetype": "text/x-java-source",
   "name": "Java",
   "pygments_lexer": "java",
   "version": "17.0.5+8-Ubuntu-2ubuntu120.04"
  },
  "orig_nbformat": 4,
  "vscode": {
   "interpreter": {
    "hash": "916dbcbb3f70747c44a77c7bcd40155683ae19c65e1c03b4aa3499c5328201f1"
   }
  }
 },
 "nbformat": 4,
 "nbformat_minor": 2
}
