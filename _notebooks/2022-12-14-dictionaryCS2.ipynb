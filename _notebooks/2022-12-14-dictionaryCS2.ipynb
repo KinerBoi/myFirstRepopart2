{
 "cells": [
  {
   "cell_type": "markdown",
   "metadata": {},
   "source": [
    "# Unit 1-5 Review + Vocab List\n",
    "> List of CS terms list\n",
    "- categories: [CB]"
   ]
  },
  {
   "attachments": {},
   "cell_type": "markdown",
   "metadata": {},
   "source": [
    "# Unit 6\n",
    "- array is a type of data structure which cntains a collection of data\n",
    "    - different thant ArrayLists\n",
    "- Data in arrya can be primitive or referrenced\n",
    "    - Int, float, char, vs String, array, class\n",
    "    - lowercase for primitive, uppercase for referenced\n",
    "- Element is value in a box of array, index is position of box, array length is total length of array\n",
    "- How to declare an array\n",
    "    -Examples: \n",
    "        - int[] array dom  = new int [9]; (saying array length) or int[] array dom = {1,2,3,4,5}\n",
    "- Homework: "
   ]
  },
  {
   "cell_type": "code",
   "execution_count": 2,
   "metadata": {
    "vscode": {
     "languageId": "java"
    }
   },
   "outputs": [],
   "source": [
    "//Unit 6 code example (for and enhanced for loop)\n",
    "int [] values = {2,5,1};\n",
    "int total = 0;\n",
    "\n",
    "for(int i = 0; i < values.length; i++) { //adding values of an array through a for loop\n",
    "    total += values[i];\n",
    "}\n",
    "\n",
    "for(int element : values) { //adding values of an array through an enhanced for loop\n",
    "    total += element;\n",
    "}\n"
   ]
  },
  {
   "attachments": {},
   "cell_type": "markdown",
   "metadata": {},
   "source": [
    "# Unit 7\n",
    "- ArrayLists are like arrays, but can have vsize changed\n",
    "![arrayList](images/difference-between-array-and-arraylist.png)\n",
    "- many methods which can be used with arrayLists\n",
    "    - size();\n",
    "        - Returns the number of elements in the list\n",
    "    - add(obj);\n",
    "        - Adds element at the end\n",
    "    - add(index, object);\n",
    "        - Adds element at specific index\n",
    "    - remove(index);\n",
    "        - Removes element from specific index\n",
    "    - set(index, object);\n",
    "        - Replaces element at index with new object\n",
    "    - get(index);\n",
    "        - Returns element at index\n",
    "- can traverse arrayList with for-loop/enhanced for-loop\n",
    "- Homework: "
   ]
  },
  {
   "cell_type": "code",
   "execution_count": 4,
   "metadata": {
    "vscode": {
     "languageId": "java"
    }
   },
   "outputs": [
    {
     "name": "stdout",
     "output_type": "stream",
     "text": [
      "There are 3 in the ArrayList\n",
      "There are 3 in the ArrayList\n",
      "There are now 4 dogs in the ArrayList\n",
      "My dog is named Noodle\n"
     ]
    }
   ],
   "source": [
    "// Unit 7 code example\n",
    "import java.util.ArrayList; //never forget to import\n",
    "\n",
    "public class methodsArrayList {\n",
    "    public static void main (String[] args) {\n",
    "        ArrayList<String> dogs = new ArrayList<String>(Arrays.asList(\"Sparky\", \"Duke\", \"Noodle\")); //remeber the <(Variable Type)>\n",
    "        ArrayList<String> dogs2 = new ArrayList<String>(Arrays.asList(\"Sparky\", \"Duke\", \"Noodle\"));\n",
    "        System.out.println(\"There are \" + dogs.size() + \" in the ArrayList\"); \n",
    "        System.out.println(\"There are \" + dogs2.size() + \" in the ArrayList\");\n",
    "        \n",
    "        //objects you add must be of the same data type\n",
    "        dogs.add(\"Peanut\"); //using arrayList functions\n",
    "        System.out.println(\"There are now \" + dogs.size() + \" dogs in the ArrayList\"); \n",
    "\n",
    "        String myDog = dogs.get(2);\n",
    "        System.out.println(\"My dog is named \" + myDog);\n",
    "    }\n",
    "}\n",
    "\n",
    "//Note: you don't need to declare <String> again after new ArrayList\n",
    "\n",
    "methodsArrayList.main(null);\n"
   ]
  },
  {
   "attachments": {},
   "cell_type": "markdown",
   "metadata": {},
   "source": [
    "# Unit 8 \n",
    "- 2D Arrays are a lot like arrays, but have an extra index which makes them 2D instead of 1D\n",
    "- Homework: https://kinerboi.github.io/myFirstRepopart2/jupyter/2022/12/06/Unit8.html (explains more of 2D Arrays)"
   ]
  },
  {
   "cell_type": "code",
   "execution_count": null,
   "metadata": {
    "vscode": {
     "languageId": "java"
    }
   },
   "outputs": [],
   "source": [
    "// Unit 8 code example\n",
    "public class Test {\n",
    "\n",
    "    public static void main(String[] args) {\n",
    "  \n",
    "        String[][] arr = { // two indexes, to help store data in a 2D model\n",
    "            { \"Atlanta\", \"Baltimore\", \"Chicago\" },\n",
    "            { \"Australia\", \"Boston\", \"Cincinnati\" },\n",
    "            { \"Austin\", \"Beaumont\", \"Columbus\" }\n",
    "        };\n",
    "\n",
    "        String longest = arr[0][0]; //defining the longest array at the moment\n",
    "\n",
    "        for(int row = 0; row < arr.length; row++) { //incrementing through each part to find largest string\n",
    "            for(int column = 0; column < arr[row].length; column++) {\n",
    "                if (arr[row][column].length() > longest.length()) {\n",
    "                    longest = arr[row][column];\n",
    "                }\n",
    "            }\n",
    "         }\n",
    "\n",
    "        System.out.println(longest); \n",
    "\n",
    "        // Use nested for loops to find the longest or shortest string!\n",
    "        System.out.println(\"Use nested for loops to find the longest or shortest string!\");\n",
    "        \n",
    "    }\n",
    "\n",
    " }\n",
    "Test.main(null);"
   ]
  },
  {
   "attachments": {},
   "cell_type": "markdown",
   "metadata": {},
   "source": [
    "# Unit 9\n",
    "- \n",
    "-  "
   ]
  },
  {
   "cell_type": "code",
   "execution_count": null,
   "metadata": {
    "vscode": {
     "languageId": "java"
    }
   },
   "outputs": [],
   "source": []
  },
  {
   "attachments": {},
   "cell_type": "markdown",
   "metadata": {},
   "source": [
    "# Unit 10"
   ]
  },
  {
   "cell_type": "code",
   "execution_count": null,
   "metadata": {
    "vscode": {
     "languageId": "java"
    }
   },
   "outputs": [],
   "source": []
  }
 ],
 "metadata": {
  "kernelspec": {
   "display_name": "Java",
   "language": "java",
   "name": "java"
  },
  "language_info": {
   "codemirror_mode": "java",
   "file_extension": ".jshell",
   "mimetype": "text/x-java-source",
   "name": "Java",
   "pygments_lexer": "java",
   "version": "17.0.5+8-Ubuntu-2ubuntu120.04"
  },
  "orig_nbformat": 4,
  "vscode": {
   "interpreter": {
    "hash": "916dbcbb3f70747c44a77c7bcd40155683ae19c65e1c03b4aa3499c5328201f1"
   }
  }
 },
 "nbformat": 4,
 "nbformat_minor": 2
}
