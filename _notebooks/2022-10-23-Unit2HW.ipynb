{
 "cells": [
  {
   "cell_type": "markdown",
   "metadata": {},
   "source": [
    "# 2018 FRQ 1\n",
    "> [CB]"
   ]
  },
  {
   "cell_type": "markdown",
   "metadata": {},
   "source": [
    "# 1a\n",
    "> Point of code is to simulate the frog hopping, and as it hops return a boolean if the frog has crossed the simulated distance needed or not"
   ]
  },
  {
   "cell_type": "code",
   "execution_count": null,
   "metadata": {
    "vscode": {
     "languageId": "java"
    }
   },
   "outputs": [],
   "source": [
    "public boolean simulate () {\n",
    "\n",
    "    int goalDistance1 = 0;\n",
    "\n",
    "    for( int i = 0;  int i < FrogSimuation.maxhops(); i++ ) {\n",
    "\n",
    "        int goalDistance1 = maxHops * hopDistance;\n",
    "\n",
    "        if (goalDistance == goalDistance1) {\n",
    "            return 1;\n",
    "        }\n",
    "        else {\n",
    "            return -1;\n",
    "        }\n",
    "\n",
    "        int count = i;\n",
    "\n",
    "    }\n",
    "}"
   ]
  },
  {
   "cell_type": "markdown",
   "metadata": {},
   "source": [
    "# 1b\n",
    "> Point of code is to see in which how many simulations the frog can cross the desired distane"
   ]
  },
  {
   "cell_type": "code",
   "execution_count": null,
   "metadata": {
    "vscode": {
     "languageId": "java"
    }
   },
   "outputs": [],
   "source": [
    "public double runSimulations (int num) {\n",
    "\n",
    "    double proportion = count/num;\n",
    "\n",
    "    System.out.println(proportion);\n",
    "}"
   ]
  }
 ],
 "metadata": {
  "kernelspec": {
   "display_name": "Java",
   "language": "java",
   "name": "java"
  },
  "language_info": {
   "codemirror_mode": "java",
   "file_extension": ".jshell",
   "mimetype": "text/x-java-source",
   "name": "Java",
   "pygments_lexer": "java",
   "version": "11.0.16+8-post-Ubuntu-0ubuntu120.04"
  },
  "orig_nbformat": 4
 },
 "nbformat": 4,
 "nbformat_minor": 2
}
