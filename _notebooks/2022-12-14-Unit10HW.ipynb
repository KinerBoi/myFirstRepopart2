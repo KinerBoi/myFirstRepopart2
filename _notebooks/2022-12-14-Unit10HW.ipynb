{
 "cells": [
  {
   "attachments": {},
   "cell_type": "markdown",
   "metadata": {},
   "source": [
    "# Unit 10 HW Screenshots\n",
    "![unit10](images/unit10-1.png)\n",
    "![unit10](images/unit10-2.png)\n",
    "![unit10](images/unit10-3.png)\n",
    "![unit10](images/unit10-4.png)\n",
    "![unit10](images/unit10-6.png)\n",
    "\n",
    "\n"
   ]
  }
 ],
 "metadata": {
  "kernelspec": {
   "display_name": "Java",
   "language": "java",
   "name": "java"
  },
  "language_info": {
   "name": "java"
  },
  "orig_nbformat": 4
 },
 "nbformat": 4,
 "nbformat_minor": 2
}
