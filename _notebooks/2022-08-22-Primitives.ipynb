{
 "cells": [
  {
   "cell_type": "markdown",
   "metadata": {},
   "source": [
    "# Primitives Farenheit to Celsius to Kelvin calculator\n",
    "> this code serves to help people during science classes, when they need to convert temperatures from farenheit to SI units such as the Celsuis and \n",
    "Kelvin scale"
   ]
  },
  {
   "cell_type": "code",
   "execution_count": 59,
   "metadata": {
    "vscode": {
     "languageId": "java"
    }
   },
   "outputs": [],
   "source": [
    "\n",
    "/*Primitives are data types which are the most basic and simple ons in Java. They are meant to\n",
    " *contain simple forms of data, such as numbers and true/false. The main examples of Primitives\n",
    " are booleans, char, int, float, and double.\n",
    " */\n",
    "\n",
    " //This notebook will contain an example of Primitves being used\n",
    " import java.util.Scanner;\n",
    "\n",
    " public class TempConversions { \n",
    "    public static void main(String[] args) {\n",
    "      \n",
    "      double celsius = 0;\n",
    "      double farenheit = 0;\n",
    "      double kelvin = 0;\n",
    "      \n",
    "      boolean tempInFaren = true; //checks whether temperature\n",
    "      String finalTempsGiven = \"These are all the values of given temperature in Farenheit, Celsius, and Kelvin!\"; //this string typed up shows the value that all value of temperature are given\n",
    "\n",
    "      Scanner input = new Scanner(System.in);\n",
    "      System.out.println(\"Enter the temperature in Farenheit, because you live in the US!: \"); //entering temperature in degrees farenheit\n",
    "      farenheit = input.nextDouble(); //scanning the input\n",
    "\n",
    "      System.out.println(\"Is the temperature you entered in degrees Farenheit? Input true or false\"); //checking whether the value inputed was in farenheit\n",
    "      tempInFaren = input.nextBoolean(); //scanning the input\n",
    "\n",
    "      if (tempInFaren == true) {\n",
    "        celsius = (farenheit - 32) * 1.8; //temperature to convert from farenheit to celsius\n",
    "\n",
    "        System.out.println(\"The temperature in Farenheit is \" + farenheit);\n",
    "\n",
    "        System.out.println(\"The temperature given in Farenheit, its value in degress Celsius is \" + celsius + \" degrees Celsius\"); //gives temp in fareneheit\n",
    "  \n",
    "        kelvin = celsius + 273.15; //temperature conversion from celsius to kelvin\n",
    "  \n",
    "        System.out.println(\"The temperature given in Farenheit, its value in degrees Kevlin is \" + kelvin + \" degrees Kevlin\");  //gives temp in kelvin\n",
    "  \n",
    "        System.out.println(finalTempsGiven); //print string\n",
    "      }\n",
    "      else {\n",
    "        System.out.println(\"Error\"); //prints error if no\n",
    "      }\n",
    "\n",
    "\n",
    "\n",
    "      //installation checks\n",
    "    }\n",
    "  }"
   ]
  },
  {
   "cell_type": "code",
   "execution_count": 60,
   "metadata": {
    "vscode": {
     "languageId": "java"
    }
   },
   "outputs": [
    {
     "name": "stdout",
     "output_type": "stream",
     "text": [
      "Enter the temperature in Farenheit, because you live in the US!: \n",
      "Is the temperature you entered in degrees Farenheit? Input true or false\n",
      "The temperature in Farenheit is 25.0\n",
      "The temperature given in Farenheit, its value in degress Celsius is -12.6 degrees Celsius\n",
      "The temperature given in Farenheit, its value in degrees Kevlin is 260.54999999999995 degrees Kevlin\n",
      "These are all the values of given temperature in Farenheit, Celsius, and Kelvin!\n"
     ]
    }
   ],
   "source": [
    "TempConversions.main(null);"
   ]
  },
  {
   "cell_type": "markdown",
   "metadata": {},
   "source": []
  }
 ],
 "metadata": {
  "kernelspec": {
   "display_name": "Java",
   "language": "java",
   "name": "java"
  },
  "language_info": {
   "codemirror_mode": "java",
   "file_extension": ".jshell",
   "mimetype": "text/x-java-source",
   "name": "Java",
   "pygments_lexer": "java",
   "version": "11.0.16+8-post-Ubuntu-0ubuntu120.04"
  },
  "orig_nbformat": 4
 },
 "nbformat": 4,
 "nbformat_minor": 2
}
