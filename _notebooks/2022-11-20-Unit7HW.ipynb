{
 "cells": [
  {
   "cell_type": "markdown",
   "metadata": {},
   "source": [
    "# Array List Lesson\n",
    "\n",
    "- toc: false\n",
    "- badges: true\n",
    "- comments: true\n",
    "- author: Calissa\n",
    "- categories: [java, labs]\n",
    "- image: images/arrayList.jpeg\n",
    "\n",
    "java notebook"
   ]
  },
  {
   "cell_type": "markdown",
   "metadata": {},
   "source": [
    "### Lesson Purpose and Objectives\n",
    "\n",
    "Learn about the structure and functions of an arrayList and go over the key College Board concepts for arrayLists\n",
    "\n",
    "ArrayLists are only 2.5%-7.5% but have many concepts from other units and are a good data structure to know. Also, the 3rd question of the FRQ is based on ArrayLists\n"
   ]
  },
  {
   "cell_type": "markdown",
   "metadata": {},
   "source": [
    "### 7.1 Introduction to ArrayList\n",
    "\n",
    "| Arrays | ArrayLists |\n",
    "| -----  | ---------- |\n",
    "| Static (fixed size) | Dynamic (can change size) | \n",
    "| Fundamental java feature | Part of a framework. Someone was nice and designed this with the behind the scenes being arrays |\n",
    "| An object with no methods | A class with many methods |\n",
    "| Not as flexible | Designed to be more flexible |\n",
    "| Can store more primitive data | Not designed to store primitives, they store object references| \n",
    "| | Slightly slower than Arrays |\n",
    "| | Can only be used with an import statement |\n",
    "\n",
    "Real Life Array Example:\n",
    "You always have to have five players on the court\n",
    "\n",
    "Real Life ArrayList Example:\n",
    "In dodgeball, the number of people in the game is changing based on who comes in or gets out\n",
    "\n",
    "Primitive Data Types:\n",
    "- boolean \n",
    "- char\n",
    "- double\n",
    "- int\n",
    "\n",
    "Wrapper Class Data Types\n",
    "(Store the primitive values as objects)\n",
    "- Boolean\n",
    "- Character\n",
    "- Double\n",
    "- Integer"
   ]
  },
  {
   "cell_type": "code",
   "execution_count": 1,
   "metadata": {
    "vscode": {
     "languageId": "java"
    }
   },
   "outputs": [],
   "source": [
    "import java.util.ArrayList; //you must import the java.util package\n",
    "\n",
    "// Instantiating: ArrayList<DataType> variableName = new ArrayList<>(n);\n",
    "//DataType must be nonprimitive data type\n",
    "\n",
    "public class introArrayList {\n",
    "    public static void main (String[] args) {\n",
    "        ArrayList<Integer> e1 = new ArrayList<Integer>(); //empty\n",
    "        ArrayList<String> e2 = new ArrayList<String>(5); //5 elements\n",
    "        ArrayList<Dogs> e3 = new ArrayList<Dogs>(); //you can store whatever objects you want\n",
    "    }\n",
    "}"
   ]
  },
  {
   "cell_type": "markdown",
   "metadata": {},
   "source": [
    "### 7.2 ArrayList Methods\n",
    "\n",
    "There are a lot of cool methods that you can use with arrayLists, but here are the ones College Board wants you to know for 7.2:\n",
    "\n",
    "size();\n",
    "- Returns the number of elements in the list\n",
    "\n",
    "add(obj);\n",
    "- Adds element at the end\n",
    "\n",
    "add(index, object);\n",
    "- Adds element at specific index\n",
    "\n",
    "remove(index);\n",
    "- Removes element from specific index\n",
    "\n",
    "set(index, object);\n",
    "- Replaces element at index with new object\n",
    "\n",
    "get(index);\n",
    "- Returns element at index\n"
   ]
  },
  {
   "cell_type": "code",
   "execution_count": 17,
   "metadata": {
    "vscode": {
     "languageId": "java"
    }
   },
   "outputs": [
    {
     "name": "stdout",
     "output_type": "stream",
     "text": [
      "There are 3 in the ArrayList\n",
      "There are 3 in the ArrayList\n",
      "There are now 4 dogs in the ArrayList\n",
      "My dog is named Noodle\n"
     ]
    }
   ],
   "source": [
    "import java.util.ArrayList; \n",
    "\n",
    "public class methodsArrayList {\n",
    "    public static void main (String[] args) {\n",
    "        ArrayList<String> dogs = new ArrayList<String>(Arrays.asList(\"Sparky\", \"Duke\", \"Noodle\"));\n",
    "        ArrayList<String> dogs2 = new ArrayList<>(Arrays.asList(\"Sparky\", \"Duke\", \"Noodle\"));\n",
    "        System.out.println(\"There are \" + dogs.size() + \" in the ArrayList\"); \n",
    "        System.out.println(\"There are \" + dogs2.size() + \" in the ArrayList\");\n",
    "        \n",
    "        //objects you add must be of the same data type\n",
    "        dogs.add(\"Peanut\");\n",
    "        System.out.println(\"There are now \" + dogs.size() + \" dogs in the ArrayList\"); \n",
    "\n",
    "        String myDog = dogs.get(2);\n",
    "        System.out.println(\"My dog is named \" + myDog);\n",
    "    }\n",
    "}\n",
    "\n",
    "//Note: you don't need to declare <String> again after new ArrayList\n",
    "\n",
    "methodsArrayList.main(null);"
   ]
  },
  {
   "cell_type": "code",
   "execution_count": 23,
   "metadata": {
    "vscode": {
     "languageId": "java"
    }
   },
   "outputs": [
    {
     "name": "stdout",
     "output_type": "stream",
     "text": [
      "Hello\n"
     ]
    }
   ],
   "source": [
    "//Hmmmm... seems suspect\n",
    "\n",
    "import java.util.ArrayList; \n",
    "\n",
    "public class example {\n",
    "    public static void main (String[] args) {\n",
    "        ArrayList<Boolean> questions = new ArrayList<>();\n",
    "        questions.add(true);\n",
    "        questions.add(false);\n",
    "        myMethod(questions);\n",
    "    }\n",
    "    public static void myMethod(ArrayList arr)\n",
    "    {\n",
    "        if (arr.size()>0)\n",
    "        {\n",
    "            arr.set(0,\"Hello\"); //String with boolean??? Uh oh!\n",
    "            System.out.println(arr.get(0));\n",
    "\n",
    "        }\n",
    "    }\n",
    "}\n",
    "\n",
    "example.main(null);"
   ]
  },
  {
   "cell_type": "code",
   "execution_count": 24,
   "metadata": {
    "vscode": {
     "languageId": "java"
    }
   },
   "outputs": [
    {
     "ename": "CompilationException",
     "evalue": "",
     "output_type": "error",
     "traceback": [
      "\u001b[1m\u001b[30m|   \u001b[1m\u001b[30m            arr.set(0,\u001b[0m\u001b[1m\u001b[30m\u001b[41m\"Hello\"\u001b[0m\u001b[1m\u001b[30m); //String with boolean??? Uh oh!\u001b[0m",
      "\u001b[1m\u001b[31mincompatible types: java.lang.String cannot be converted to java.lang.Boolean\u001b[0m",
      ""
     ]
    }
   ],
   "source": [
    "import java.util.ArrayList; \n",
    "\n",
    "public class example {\n",
    "    public static void main (String[] args) {\n",
    "        ArrayList<Boolean> questions = new ArrayList<>();\n",
    "        questions.add(true);\n",
    "        questions.add(false);\n",
    "        myMethod(questions);\n",
    "    }\n",
    "    public static void myMethod(ArrayList<Boolean> arr)\n",
    "    {\n",
    "        if (arr.size()>0)\n",
    "        {\n",
    "            arr.set(0,\"Hello\"); //String with boolean??? Uh oh!\n",
    "            System.out.println(arr.get(0));\n",
    "\n",
    "        }\n",
    "    }\n",
    "}\n",
    "\n",
    "example.main(null);\n",
    "\n",
    "//Make sure to specify data type so the compiler is more helpful and it avoids confusion\n",
    "//This also applies for returning and arrayList as well"
   ]
  },
  {
   "cell_type": "code",
   "execution_count": 25,
   "metadata": {
    "vscode": {
     "languageId": "java"
    }
   },
   "outputs": [],
   "source": [
    "//Returning an ArrayList\n",
    "\n",
    "public static ArrayList methodName (ArrayList arr){\n",
    "    return arr;\n",
    "}"
   ]
  },
  {
   "cell_type": "code",
   "execution_count": 26,
   "metadata": {
    "vscode": {
     "languageId": "java"
    }
   },
   "outputs": [],
   "source": [
    "// HACK!!!!\n",
    "// Create an arrayList and use one of the cool methods for it\n",
    "\n",
    "import java.util.ArrayList; \n",
    "\n",
    "public class hack1 {\n",
    "    public static void main (String[] args) {\n",
    "       \n",
    "    }\n",
    "}\n",
    "\n",
    "hack1.main(null);"
   ]
  },
  {
   "cell_type": "markdown",
   "metadata": {},
   "source": [
    "### 7.3 Traversing ArrayLists"
   ]
  },
  {
   "cell_type": "markdown",
   "metadata": {},
   "source": [
    "- there are 2 ways to traverse arraylists: for loops and enhanced for loops\n",
    "- use get() instead of bracket notation for getting an element of an arraylist\n",
    "- use size() to find number of elements in arraylist instead of using .length  "
   ]
  },
  {
   "cell_type": "markdown",
   "metadata": {},
   "source": [
    "### for loop "
   ]
  },
  {
   "cell_type": "code",
   "execution_count": 2,
   "metadata": {
    "vscode": {
     "languageId": "java"
    }
   },
   "outputs": [
    {
     "name": "stdout",
     "output_type": "stream",
     "text": [
      "1 2 3 4 5 "
     ]
    }
   ],
   "source": [
    "import java.util.*;\n",
    " \n",
    "public class main {\n",
    "   \n",
    "    public static void main(String[] args) {\n",
    "        \n",
    "        List<Integer> numbers = Arrays.asList(1, 2, 3, 4, 5);\n",
    " \n",
    "        for (int i = 0; i < numbers.size(); i++) {\n",
    "            System.out.print(numbers.get(i) + \" \");    \n",
    "        }       \n",
    "    }\n",
    "}\n",
    "  \n",
    "main.main(null);"
   ]
  },
  {
   "cell_type": "markdown",
   "metadata": {},
   "source": [
    "### enhance for loops"
   ]
  },
  {
   "cell_type": "code",
   "execution_count": 6,
   "metadata": {
    "vscode": {
     "languageId": "java"
    }
   },
   "outputs": [
    {
     "name": "stdout",
     "output_type": "stream",
     "text": [
      "1 2 3 4 5 "
     ]
    }
   ],
   "source": [
    "import java.util.*;\n",
    " \n",
    "public class main {\n",
    "   \n",
    "    public static void main(String[] args) {\n",
    "        \n",
    "        List<Integer> numbers = Arrays.asList(1, 2, 3, 4, 5);\n",
    " \n",
    "        for ( int num : numbers ) \n",
    "        System.out.print(num + \" \");     \n",
    "    }\n",
    "}\n",
    "  \n",
    "main.main(null);"
   ]
  },
  {
   "cell_type": "markdown",
   "metadata": {},
   "source": [
    "### Common Mistakes"
   ]
  },
  {
   "cell_type": "markdown",
   "metadata": {},
   "source": [
    "- don't forget to import java.util.ArrayList\n",
    "- don't declare or instantiate ArrayList with a primitive data type, which are things such as int, double, and booleans. \n",
    "- don't forget the parentheses at the end of the constructor and the element types with the brackets: ArrayList<String> list = new ArrayList<String>(); \n",
    "- don't confuse arrays with arraylists, don't use [], don't use .length use .size() instead \n",
    "\n"
   ]
  },
  {
   "cell_type": "markdown",
   "metadata": {},
   "source": [
    "### Hack #2"
   ]
  },
  {
   "cell_type": "code",
   "execution_count": 34,
   "metadata": {
    "vscode": {
     "languageId": "java"
    }
   },
   "outputs": [
    {
     "name": "stdout",
     "output_type": "stream",
     "text": [
      "[green box, blue water]\n"
     ]
    }
   ],
   "source": [
    "import java.util.ArrayList;\n",
    "\n",
    "ArrayList<String> color = new ArrayList<String>(); \n",
    "color.add(\"red apple\");\n",
    "color.add(\"green box\");\n",
    "color.add(\"blue water\");\n",
    "color.add(\"red panda\");\n",
    "\n",
    "\n",
    "/*/ \n",
    "using \n",
    "\n",
    "if(color.get(i).contains(\"red\"))\n",
    "\n",
    "iterate through the arraylist and remove all elements that contain the word red in them\n",
    "/*/\n"
   ]
  },
  {
   "cell_type": "markdown",
   "metadata": {},
   "source": [
    "### 7.4 Developing Algorithms Using ArrayLists"
   ]
  },
  {
   "cell_type": "markdown",
   "metadata": {},
   "source": [
    "### Modify Array Values"
   ]
  },
  {
   "cell_type": "code",
   "execution_count": 38,
   "metadata": {
    "vscode": {
     "languageId": "java"
    }
   },
   "outputs": [
    {
     "name": "stdout",
     "output_type": "stream",
     "text": [
      "[10, 2, 6]"
     ]
    }
   ],
   "source": [
    "ArrayList<Integer> num = new ArrayList<Integer>(); \n",
    "\n",
    "num.add(5);\n",
    "num.add(1);\n",
    "num.add(3);\n",
    "\n",
    "for (int i = 0; i < num.size(); i++) {\n",
    "  num.set(i, num.get(i) * 2); \n",
    "}\n",
    "System.out.print(num);"
   ]
  },
  {
   "cell_type": "markdown",
   "metadata": {},
   "source": [
    "### find max value"
   ]
  },
  {
   "cell_type": "code",
   "execution_count": 40,
   "metadata": {
    "vscode": {
     "languageId": "java"
    }
   },
   "outputs": [
    {
     "name": "stdout",
     "output_type": "stream",
     "text": [
      "5"
     ]
    }
   ],
   "source": [
    "ArrayList<Integer> num = new ArrayList<Integer>(); \n",
    "\n",
    "num.add(5);\n",
    "num.add(1);\n",
    "num.add(3);\n",
    "\n",
    "int maxValue = num.get(0);\n",
    "for (int number: num) {\n",
    "  if (number > maxValue) { \n",
    "    maxValue = number;\n",
    "  }\n",
    "}\n",
    "\n",
    "System.out.print(maxValue);"
   ]
  },
  {
   "cell_type": "markdown",
   "metadata": {},
   "source": [
    "### find min value"
   ]
  },
  {
   "cell_type": "code",
   "execution_count": 42,
   "metadata": {
    "vscode": {
     "languageId": "java"
    }
   },
   "outputs": [
    {
     "name": "stdout",
     "output_type": "stream",
     "text": [
      "1"
     ]
    }
   ],
   "source": [
    "ArrayList<Integer> num = new ArrayList<Integer>(); \n",
    "\n",
    "num.add(5);\n",
    "num.add(1);\n",
    "num.add(3);\n",
    "\n",
    "int minValue = num.get(0);\n",
    "for (int number: num) {\n",
    "  if (number < minValue) { //if new min value found, replace current minValue\n",
    "   minValue = number;\n",
    "  }\n",
    "}\n",
    "System.out.print(minValue);"
   ]
  },
  {
   "cell_type": "markdown",
   "metadata": {},
   "source": [
    "### Hack #3"
   ]
  },
  {
   "cell_type": "code",
   "execution_count": 45,
   "metadata": {
    "vscode": {
     "languageId": "java"
    }
   },
   "outputs": [
    {
     "name": "stdout",
     "output_type": "stream",
     "text": [
      "9"
     ]
    }
   ],
   "source": [
    "// find the sum of the elements in the arraylist\n",
    "\n",
    "ArrayList<Integer> num = new ArrayList<Integer>(); \n",
    "\n",
    "num.add(5);\n",
    "num.add(1);\n",
    "num.add(3);\n"
   ]
  },
  {
   "cell_type": "markdown",
   "metadata": {},
   "source": [
    "### 7.5 Searching"
   ]
  },
  {
   "cell_type": "markdown",
   "metadata": {},
   "source": [
    "- Often times we need to locate data inside linear structures.\n",
    "Normally we would use for loops in order to specify each element, one at a time, and do not need to track the index after execution."
   ]
  },
  {
   "cell_type": "code",
   "execution_count": null,
   "metadata": {
    "vscode": {
     "languageId": "java"
    }
   },
   "outputs": [],
   "source": [
    "for ( int index = 0; index < items.size(); index++ ){ //forward searching\n",
    "    \n",
    "    if ( items.get(index) == num ){\n",
    "        return index;\n",
    "    }\n",
    "\n",
    "}"
   ]
  },
  {
   "cell_type": "markdown",
   "metadata": {},
   "source": [
    "Important Things to Keep in Mind\n",
    "- When looking at **int** values, the *==* operator should be used.\n",
    "- When searching for a double value, we need to make sure the value is close enough by doing some math.\n",
    "- Object instances should always use the **.equals(otherThing)** method to check for a match. \n",
    "\n",
    "When searching a linear structure we need to send it the structure and what we are looking for as parameters. A standard for loop with an if block is all we need to search any linear structure."
   ]
  },
  {
   "cell_type": "code",
   "execution_count": null,
   "metadata": {
    "vscode": {
     "languageId": "java"
    }
   },
   "outputs": [],
   "source": [
    "public int whereIsMyNumber(int magicNumber, int [] myNumbers)\n",
    "    {\n",
    "        for (int index = 0; index < myNumbers.length; index++) //search through every single spot\n",
    "        {\n",
    "            if (myNumbers[index] == magicNumber) //do they match? if so return index\n",
    "            {\n",
    "                return index;\n",
    "            }\n",
    "        }\n",
    "        return -1; // if searched through every single spot, indicate its not there\n",
    "    }"
   ]
  },
  {
   "cell_type": "markdown",
   "metadata": {},
   "source": [
    "- You shouldn't use the == operator when looking for an object. It will only return true if the variable and the element stored at the index point to the same memory, are aliases of each other.\n",
    "\n",
    "Here is an example of how you would search for a traditional object:"
   ]
  },
  {
   "cell_type": "code",
   "execution_count": null,
   "metadata": {
    "vscode": {
     "languageId": "java"
    }
   },
   "outputs": [],
   "source": [
    "public int findTheWord(String searchedPhrase, ArrayList<Book> myBooks)\n",
    "    {\n",
    "        for (int index = 0; index < myBooks.size(); index++) //search through every book in structure\n",
    "        {\n",
    "            Book currentBook = myBooks.get(index); //hold current book with current book variable\n",
    "            String currentPhrase = currentBook.getDescription(); //get description of current book and store in variable currentPhrase\n",
    "            if (currentPhrase.equals(searchedPhrase)) //if parameter = current phrase of book looking at - using .equals instead of == operator\n",
    "            {\n",
    "                return index; \n",
    "            }\n",
    "        }\n",
    "        return -1; //if no match found, indicate its not there\n",
    "    }"
   ]
  },
  {
   "cell_type": "markdown",
   "metadata": {},
   "source": [
    "### 7.6 Sorting"
   ]
  },
  {
   "cell_type": "markdown",
   "metadata": {},
   "source": [
    "- Selection sort identifies either the maximum or minimum of the compared values and iterates over the structure checking if the item stored at the index matches the condition, if so, it will swap the value stored at the index and continue.\n",
    "- The insertion sort is characterized by building a sorted structure as it proceeds. It inserts each value it finds at the appropriate location in the data structure. This is often accomplished by using a while loop as the inner loop."
   ]
  },
  {
   "cell_type": "code",
   "execution_count": null,
   "metadata": {
    "vscode": {
     "languageId": "java"
    }
   },
   "outputs": [],
   "source": [
    "for (int outer = 1; outer < randomList.size(); outer++)\n",
    "{\n",
    "    DebugDuck tested = randomList.get(outer); //extract out a value out of list, passes to outer\n",
    "    int inner = outer - 1;      //goes back and compares to previous\n",
    "\n",
    "    while ( inner >= 0 && tested.compareTo(randomList.get(inner)) < 0 ) //checks to see if index is valid\n",
    "    {\n",
    "        randomList.set(inner + 1, randomList.get(inner)); //move up by one and replace original location\n",
    "        inner--;\n",
    "    }\n",
    "    randomList.set(inner + 1, tested); //anything taken out would be placed back into structure\n",
    "}"
   ]
  },
  {
   "cell_type": "markdown",
   "metadata": {},
   "source": [
    "### 7.7 Ethical Issues Around Data Collection"
   ]
  },
  {
   "cell_type": "markdown",
   "metadata": {},
   "source": [
    "#### Safety with Data Collection\n",
    "\n",
    "It is very important to minimize user data collection in our programs. While collecting data in a smaller program may not be a big issue, establishing good practices with data security is always a safer bet when eventually moving to larger projects that manage data.\n",
    "\n",
    "Whenever you come across data that you no longer will need, it is a good practice to explicitly remove that data altogether."
   ]
  },
  {
   "cell_type": "code",
   "execution_count": 47,
   "metadata": {
    "vscode": {
     "languageId": "java"
    }
   },
   "outputs": [
    {
     "name": "stdout",
     "output_type": "stream",
     "text": [
      "Log in ---\n",
      "Please enter your name:\n",
      "Evan\n",
      "Please enter your email:\n",
      "evanjoelsanchez@gmail.com\n",
      "\n",
      "Current users in databse ---\n",
      "[Kian, Kiannp44@gmail.com, Samuel, samuelwaang@gmail.com, Calissa, calissaT@gmail.com, Evan, evanjoelsanchez@gmail.com]\n",
      "\n",
      "Would you like to log out? (y/n)\n",
      "y\n",
      "\n",
      "Current users in database ---\n",
      "[Kian, Kiannp44@gmail.com, Samuel, samuelwaang@gmail.com, Calissa, calissaT@gmail.com]\n"
     ]
    }
   ],
   "source": [
    "import java.util.Scanner;\n",
    "import java.util.Arrays;\n",
    "\n",
    "public class dataRemoval {\n",
    "\n",
    "    public static void main(String[] args) {\n",
    "\n",
    "        // just a scanner object\n",
    "        Scanner sc = new Scanner(System.in);\n",
    "\n",
    "        // makes an arraylist with some users already in it\n",
    "        ArrayList<String> userList = new ArrayList<>(Arrays.asList(\"Kian\", \"Kiannp44@gmail.com\", \"Samuel\", \"samuelwaang@gmail.com\", \"Calissa\", \"calissaT@gmail.com\"));\n",
    "\n",
    "        // takes user's name\n",
    "        System.out.println(\"Log in ---\");\n",
    "        System.out.println(\"Please enter your name:\");\n",
    "        String name = sc.nextLine();\n",
    "        System.out.println(name);\n",
    "        userList.add(name);\n",
    "\n",
    "        // takes user's email\n",
    "        System.out.println(\"Please enter your email:\");\n",
    "        String email = sc.nextLine();\n",
    "        System.out.println(email);\n",
    "        userList.add(email);\n",
    "\n",
    "        // prints all the current users in arraylist\n",
    "        System.out.println();\n",
    "        System.out.println(\"Current users in databse ---\");\n",
    "        System.out.println(userList);\n",
    "\n",
    "        // prompt to log out\n",
    "        System.out.println();\n",
    "        System.out.println(\"Would you like to log out? (y/n)\");\n",
    "        String logOut = sc.nextLine();\n",
    "        if (logOut.equals(\"y\")) { // if user logs out, remove their name and email from arraylist\n",
    "            System.out.println(logOut);\n",
    "            userList.remove(name);\n",
    "            userList.remove(email);\n",
    "\n",
    "        }\n",
    "\n",
    "        // reprints current users in arraylist\n",
    "        System.out.println();\n",
    "        System.out.println(\"Current users in database ---\");\n",
    "        System.out.println(userList);\n",
    "    }\n",
    "}\n",
    "\n",
    "dataRemoval.main(null);"
   ]
  },
  {
   "cell_type": "markdown",
   "metadata": {},
   "source": [
    "#### Anonymizing Personal Data\n",
    "\n",
    "Instead of using names for users, we can use hash codes instead, which means that each user will simply be identified by their hash code."
   ]
  },
  {
   "cell_type": "code",
   "execution_count": 50,
   "metadata": {
    "vscode": {
     "languageId": "java"
    }
   },
   "outputs": [
    {
     "name": "stdout",
     "output_type": "stream",
     "text": [
      "Hash Code: 2172094\n"
     ]
    }
   ],
   "source": [
    "public class hashUsers {\n",
    "\n",
    "    public static void main(String[] args) {\n",
    "\n",
    "        Scanner sc = new Scanner(System.in);\n",
    "\n",
    "        String name = sc.nextLine();\n",
    "\n",
    "        // this .hashCode() method will convert the name to a code which cannot be traced back to that original name\n",
    "        int id = name.hashCode();\n",
    "        \n",
    "        name = null; // name is now null, and nobody will ever know the original name I put in\n",
    "\n",
    "        System.out.println(\"Hash Code: \" + id);\n",
    "    }\n",
    "}\n",
    "\n",
    "hashUsers.main(null);"
   ]
  },
  {
   "cell_type": "markdown",
   "metadata": {},
   "source": [
    "#### The Takeaway\n",
    "\n",
    "It is important to understand that as a programmer handling user data, it is your responsibility to protect that collected data. The less data you collect, the less you have to safeguard. A compromised database will generally be an expensive lawsuit in a large scale project."
   ]
  },
  {
   "cell_type": "markdown",
   "metadata": {},
   "source": [
    "### Homework\n",
    "\n",
    "[Quizziz](https://quizizz.com/join?gc=63805835)\n"
   ]
  }
 ],
 "metadata": {
  "kernelspec": {
   "display_name": "Java",
   "language": "java",
   "name": "java"
  },
  "language_info": {
   "codemirror_mode": "java",
   "file_extension": ".jshell",
   "mimetype": "text/x-java-source",
   "name": "Java",
   "pygments_lexer": "java",
   "version": "11.0.16+8-post-Ubuntu-0ubuntu120.04"
  },
  "orig_nbformat": 4
 },
 "nbformat": 4,
 "nbformat_minor": 2
}
