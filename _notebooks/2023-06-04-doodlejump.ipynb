{
 "cells": [
  {
   "attachments": {},
   "cell_type": "markdown",
   "metadata": {},
   "source": [
    "Introduction:\n",
    "- Doodle Jump is a classic mobile game known for its addictive gameplay and simple mechanics. In this blog post, we'll walk you through the process of creating your own version of Doodle Jump using JavaScript. By following these steps, you'll gain a solid understanding of game development concepts and enhance your JavaScript skills. Let's dive into the code!\n",
    "\n",
    "Prerequisites:\n",
    "- To follow along with this tutorial, you should have a basic understanding of HTML, CSS, and JavaScript. Make sure you have a text editor and a web browser installed on your machine."
   ]
  },
  {
   "attachments": {},
   "cell_type": "markdown",
   "metadata": {},
   "source": [
    "Step 1: Setting Up the HTML Structure\n",
    "    - To put your code into"
   ]
  },
  {
   "cell_type": "code",
   "execution_count": null,
   "metadata": {},
   "outputs": [],
   "source": [
    "<!DOCTYPE html>\n",
    "<html>\n",
    "  <head>\n",
    "    <title>Doodle Jump</title>\n",
    "    <style>\n",
    "      body {\n",
    "        margin: 0;\n",
    "        overflow: hidden;\n",
    "      }\n",
    "      canvas {\n",
    "        display: block;\n",
    "      }\n",
    "    </style>\n",
    "  </head>\n",
    "  <body>\n",
    "    <canvas id=\"gameCanvas\"></canvas>\n",
    "    <script src=\"game.js\"></script>\n",
    "  </body>\n",
    "</html>\n"
   ]
  },
  {
   "attachments": {},
   "cell_type": "markdown",
   "metadata": {},
   "source": [
    "- Step 2: Styling the Game"
   ]
  },
  {
   "cell_type": "code",
   "execution_count": null,
   "metadata": {},
   "outputs": [],
   "source": [
    "<style>\n",
    "html, body {\n",
    "  height: 100%;  \n",
    "  margin: 0;\n",
    "  background-image: url('https://wallpapercave.com/wp/wp391670.jpg');      \n",
    "}  \n",
    "body {\n",
    "  text-align: center;\n",
    "  align-items: center;\n",
    "}\n",
    ".container {\n",
    "  display: flex;\n",
    "}\n",
    "canvas {\n",
    "  border: 2px solid #FF0000;\n",
    "  background-color: #E6E6E6;\n",
    "  border-radius: 10px;\n",
    "  box-shadow: 0px 0px 10px #FF0000;\n",
    "  display: block;\n",
    "  margin: 0;\n",
    "  height: 90%;\n",
    "  style=\"display: inline-block\";\n",
    "}\n",
    "table {\n",
    "  margin-left: 20px;\n",
    "}\n",
    "info-container {\n",
    "  display: flex;\n",
    "  flex-direction: column;\n",
    "  align-items: flex-start;\n",
    "  height: 90%;\n",
    "}\n",
    "#score {\n",
    "  font-size: 2em;\n",
    "  font-weight: bold;\n",
    "  font-family: 'Courier New', monospace;\n",
    "  top: 0;\n",
    "  left: 0;\n",
    "  right: 0;\n",
    "  width: 300px;\n",
    "  transform: translateX(-2%);\n",
    "  text-transform: uppercase;\n",
    "  background: linear-gradient(to right,  #FFFF00  30%, #FFA500   75%);\n",
    "  -webkit-background-clip: text;\n",
    "  -webkit-text-fill-color: transparent;\n",
    "  font: {\n",
    "    size: 20vw;\n",
    "    family: $font;\n",
    "  };\n",
    "}\n",
    "#highestScore {\n",
    "  font-size: 2em;\n",
    "  font-weight: bold;\n",
    "  color:  #7673ff ;\n",
    "  transform: translateX(-3%);\n",
    "   font-family: 'Courier New', monospace;\n",
    "  top: 0;\n",
    "  left: 0;\n",
    "  right: 0;\n",
    "  width: 300px;\n",
    "  transform: translateX(-2%);\n",
    "  text-transform: uppercase;\n",
    "  background: linear-gradient(to right,  #FFFF00  30%, #FFA500   75%);\n",
    "  -webkit-background-clip: text;\n",
    "  -webkit-text-fill-color: transparent;\n",
    "  font: {\n",
    "    size: 20vw;\n",
    "    family: $font;\n",
    "  }\n",
    "}\n",
    "tr {\n",
    "  font-weight: bold;\n",
    "  color:   #FDB813   ;\n",
    "  font-family: \"Comic Sans MS\", \"Comic Sans\", cursive;\n",
    "  width: 300px;\n",
    "}\n",
    "th {\n",
    "  font-weight: bold;\n",
    "  color:   #FDB813   ;\n",
    "  font-family: \"Comic Sans MS\", \"Comic Sans\", cursive;\n",
    "  width: 300px;\n",
    "}\n",
    "</style>\n"
   ]
  },
  {
   "attachments": {},
   "cell_type": "markdown",
   "metadata": {},
   "source": [
    "- Step 3: Drawing the Doodle Character"
   ]
  },
  {
   "cell_type": "code",
   "execution_count": null,
   "metadata": {},
   "outputs": [],
   "source": [
    "const canvas = document.getElementById('gameCanvas');\n",
    "const context = canvas.getContext('2d');\n",
    "\n",
    "const doodle = {\n",
    "  x: canvas.width / 2,\n",
    "  y: canvas.height - 30,\n",
    "  radius: 15,\n",
    "  color: '#FF0000',\n",
    "};\n",
    "\n",
    "function drawDoodle() {\n",
    "  context.beginPath();\n",
    "  context.arc(doodle.x, doodle.y, doodle.radius, 0, Math.PI * 2);\n",
    "  context.fillStyle = doodle.color;\n",
    "  context.fill();\n",
    "  context.closePath();\n",
    "}"
   ]
  },
  {
   "attachments": {},
   "cell_type": "markdown",
   "metadata": {},
   "source": [
    "- Step 4: Implementing the Game Logic\n",
    "    - If doodle hits the block, its score increases\n",
    "    - First time doodle fails to hit block, game end\n",
    "    - Score gets saved"
   ]
  },
  {
   "cell_type": "code",
   "execution_count": null,
   "metadata": {},
   "outputs": [],
   "source": [
    "let doodle = new Doodle(canvas.width / 2 - 20, platformStart - 60, 0, 0);\n",
    "  // keep track of player direction and actions\n",
    "  let playerDir = 0;\n",
    "  let keydown = false;\n",
    "  let prevDoodleY = doodle.Y;\n",
    "  //game loop\n",
    "  function loop() {\n",
    "    //updateScore();\n",
    "    //check if the doodle falls off\n",
    "    if(doodle.Y > canvas.height) {\n",
    "      alert(\"Doodle fell off, game over!!!!!\");\n",
    "      if (score > highscore) {\n",
    "        highscore = score;\n",
    "        document.getElementById('highestScore').innerHTML = \"Highscore: \"+ highscore;\n",
    "        document.cookie = 'highscore' + '=' + score + '; expires=' +    daysToExpire + ';SameSite=None';\n",
    "        console.log(highscore);\n",
    "      }\n",
    "      document.getElementById('score').innerHTML = \"Score: \"+score;\n",
    "      cancelAnimationFrame(windowId); \n",
    "      createNewCookie();\n",
    "      location.reload();       \n",
    "      return;\n",
    "    }\n",
    "}"
   ]
  },
  {
   "attachments": {},
   "cell_type": "markdown",
   "metadata": {},
   "source": [
    "- Step 5: Creating Platforms and Enemies\n",
    "    - Platforms needed for Doodle to Jump on"
   ]
  },
  {
   "cell_type": "code",
   "execution_count": null,
   "metadata": {},
   "outputs": [],
   "source": [
    "const platforms = [];\n",
    "\n",
    "function createPlatform(x, y, width) {\n",
    "  platforms.push({ x, y, width });\n",
    "}\n",
    "\n",
    "function drawPlatforms() {\n",
    "  platforms.forEach(platform => {\n",
    "    context.beginPath();\n",
    "    context.rect(platform.x, platform.y, platform.width, 10);\n",
    "    context.fillStyle = '#00FF00';\n",
    "    context.fill();\n",
    "    context.closePath();\n",
    "  });\n",
    "}\n"
   ]
  }
 ],
 "metadata": {
  "kernelspec": {
   "display_name": "Java",
   "language": "java",
   "name": "java"
  },
  "language_info": {
   "name": "java"
  },
  "orig_nbformat": 4
 },
 "nbformat": 4,
 "nbformat_minor": 2
}
