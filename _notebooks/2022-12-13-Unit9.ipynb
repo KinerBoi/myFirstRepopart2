{
 "cells": [
  {
   "cell_type": "markdown",
   "metadata": {},
   "source": [
    "# Unit 9 - Inheritance\n",
    "> Unit 9 Lesson\n",
    "\n",
    "- toc: true \n",
    "- comments: true\n",
    "- categories: [cb]\n",
    "- title: Unit 9 - Inheritance"
   ]
  },
  {
   "cell_type": "markdown",
   "metadata": {},
   "source": [
    "# Setup\n",
    "\n",
    "One of the main goals of learning inheritance is to teach you how to structure your code. So, we're going to leave a lot of the hacks up to your creativity, and you can make anything you want as long as it follows the structure of inheritance. \n",
    "\n",
    "Open up a new notebook in your personal fastpages (you can do this in pairs or groups). The hacks in this lesson will be performed from scratch in this notebook."
   ]
  },
  {
   "cell_type": "markdown",
   "metadata": {},
   "source": [
    "# What is Inheritance, and why is it useful?\n",
    "\n",
    "Imagine you wanted to create a racing game. You would need a bunch of different cars-bugattis, lamborghinis, rolls royce. Each of these cars would have different features; they would have different fuel types, tires, and engines. A car like an Aston Martin would have a spoiler inside the car for aerodynamics. Lambos have cools doors for when you pull up to a race. But all of these cars would also have a lot in common; all cars have gear shifts, gas, breaks, and steering. \n",
    "\n",
    "We could model each car with its own class, with attributes and methods specific to each car. But we would find that we're repeating a lot of the same code over and over - it doesn't really make sense to redefine the methods for gas and breaks for every single car, when it will do the same thing.\n",
    "\n",
    "This is a great use case for inheritance. We can define a base \"Car Class\" that has the methods and attributes common to every car - steering methods, gas and break methods, and attributes like speed and miles per gallon. \n",
    "\n",
    "Each car will \"extend\" from this base class. This means that it \"inherits\" the methods and attributes in the base Car Class (this is why it's called **Inheritance**). But each of the new car classes, for example a Bugatti Class, will have its own special methods and attributes."
   ]
  },
  {
   "cell_type": "markdown",
   "metadata": {},
   "source": [
    "# SuperClasses and Subclasses with Cars"
   ]
  },
  {
   "cell_type": "markdown",
   "metadata": {},
   "source": [
    "### Let's first look at the base \"Car Class\" we talked about, with the generic methods all cars would have. This is called the **Super Class**.\n",
    "\n",
    "#### Some vocab:\n",
    "\n",
    "protected is an access modifier so that the attribute isn't affected by outside modifiers."
   ]
  },
  {
   "cell_type": "code",
   "execution_count": 3,
   "metadata": {},
   "outputs": [],
   "source": [
    "public class Car {\n",
    "    protected String brandName;\n",
    "    protected double range;\n",
    "    protected double doorNumber;\n",
    "    protected double maxSpeed;\n",
    "    \n",
    "    // Constructor for the attributes present in the superclass\n",
    "    public Car(String brandName, double range, double doorNumber, double maxSpeed) {\n",
    "        this.brandName = brandName;\n",
    "        this.range = range;\n",
    "        this.doorNumber = doorNumber;\n",
    "        this.maxSpeed = maxSpeed;\n",
    "    }\n",
    "    \n",
    "    public void gas () {\n",
    "        System.out.println(\"Go!\");\n",
    "    }\n",
    "    \n",
    "    public void brake () {\n",
    "        System.out.println(\"Stop!\");\n",
    "    }\n",
    "    \n",
    "    public void gearShift () {\n",
    "        System.out.println(\"Use the stick\");\n",
    "    }\n",
    "    \n",
    "    public void steer () {\n",
    "        System.out.println(\"turning left...\");\n",
    "    }\n",
    "    \n",
    "    public void horn () {\n",
    "        System.out.print(\"honking... \");\n",
    "    }\n",
    "}\n"
   ]
  },
  {
   "cell_type": "code",
   "execution_count": 6,
   "metadata": {},
   "outputs": [
    {
     "name": "stdout",
     "output_type": "stream",
     "text": [
      "Go!\n",
      "Use the gear selector next to the wheel\n",
      "turning right...\n",
      "honking... eugh\n",
      "honking... brrr\n"
     ]
    }
   ],
   "source": [
    "public class TeslaModelS extends Car {\n",
    "    // Additional attribute not present in the superclass\n",
    "    protected String hornSound; \n",
    "    \n",
    "    // Constructor for Subclass\n",
    "    public TeslaModelS(String brandName, double range, double doorNumber, double maxSpeed, String hornSound) {\n",
    "        // We use the Superclass constructor for the shared attributes through the keyword \"super\"\n",
    "        super(brandName, range, doorNumber, maxSpeed);\n",
    "        // hornSound is not in the Superclass, so we add it separately in the constructor\n",
    "        this.hornSound = hornSound;\n",
    "    }\n",
    "    \n",
    "    // We use override to change the functionality in the subclass of an existing method in the superclass\n",
    "    @Override\n",
    "    public void gearShift () {\n",
    "        System.out.println(\"Use the gear selector next to the wheel\");\n",
    "    }\n",
    "    public void steer () {\n",
    "        System.out.println(\"turning right...\");\n",
    "    }\n",
    "    \n",
    "    // Here, we don't fully change the functionality of the existing horn method in the superclass\n",
    "    // Instead, we take all of the functionality of the superclass method, and then add on to it\n",
    "    public void horn () {\n",
    "        super.horn();\n",
    "        System.out.println(hornSound);\n",
    "    }\n",
    "    \n",
    "    public static void main(String[] args) {\n",
    "        // 5 argument constructor\n",
    "        TeslaModelS modelS = new TeslaModelS(\"Tesla\", 396, 4, 200, \"eugh\");\n",
    "        // Example of late binding\n",
    "        Car car = new TeslaModelS(\"Tesla\", 396, 4, 200, \"brrr\");\n",
    "        // We can still use the methods from the child class, even though we didn't mention them in the subclass!\n",
    "        modelS.gas();\n",
    "        // Using the overridden method\n",
    "        modelS.gearShift();\n",
    "        modelS.steer();\n",
    "        // Using the method we added on to\n",
    "        modelS.horn();\n",
    "        car.horn();\n",
    "    }\n",
    "    \n",
    "    \n",
    "}\n",
    "TeslaModelS.main(null);"
   ]
  },
  {
   "cell_type": "markdown",
   "metadata": {},
   "source": [
    "# Writing Constructors for Subclasses"
   ]
  },
  {
   "cell_type": "markdown",
   "metadata": {},
   "source": [
    "In the previous example, the **TeslaModelS** class was a subclass. Recall that a constructor is what initializes the values of the attributes of a class when a new object of the class is created. How do we write constructors for subclasses?"
   ]
  },
  {
   "cell_type": "markdown",
   "metadata": {},
   "source": [
    "Well, if the attributes of the subclass are exactly the same as the attributes of the superclass, then we can just use the constructor of the superclass. Take a look at the superclass, the **Car** class. We have defined a constructor within that class already."
   ]
  },
  {
   "cell_type": "markdown",
   "metadata": {},
   "source": [
    "To use the constructor of the superclass in our subclass, we need to use some specific syntax. Namely, we need to make use of the **super** keyword. This allows us to use constructors that we define in the superclass."
   ]
  },
  {
   "cell_type": "markdown",
   "metadata": {},
   "source": [
    "Look again at the constructor in the **TeslaModelS** class. We have passed in 4 attributes to the super constructor, meaning that we are making use of the 4 argument constructor in the superclass. "
   ]
  },
  {
   "cell_type": "markdown",
   "metadata": {},
   "source": [
    "But our subclass also has an additional attribute: **hornSound**. We don't include this in the superclass since this isn't customizable for most cars. This attribute needs to be included in the constructor for our subclass, but it doesn't make sense to make a completely new constructor for all 5 attributes when 4 of the attributes are shared with the superclass."
   ]
  },
  {
   "cell_type": "markdown",
   "metadata": {},
   "source": [
    "So, what we do is call the superclass constructor with 4 attributes, but then simply add an additional assignment for the 5th, unique, attribute."
   ]
  },
  {
   "cell_type": "markdown",
   "metadata": {},
   "source": [
    "# Hack 1"
   ]
  },
  {
   "cell_type": "markdown",
   "metadata": {},
   "source": [
    "In your own notebook, make any class with 2 attributes and 0 methods. Create a 2 argument constructor for that class. This will be your **superclass**. Now, create a **subclass** that extends from the superclass you made. Create 1 additional attribute in your subclass that was not present in the superclass. "
   ]
  },
  {
   "cell_type": "code",
   "execution_count": 4,
   "metadata": {},
   "outputs": [],
   "source": [
    "public class Person {\n",
    "    public Person() { //constructor\n",
    "        int height;\n",
    "        int age;\n",
    "    }\n",
    "}"
   ]
  },
  {
   "cell_type": "code",
   "execution_count": 8,
   "metadata": {},
   "outputs": [
    {
     "ename": "CompilationException",
     "evalue": "",
     "output_type": "error",
     "traceback": [
      "\u001b[1m\u001b[30m|   \u001b[1m\u001b[30m\u001b[0m\u001b[1m\u001b[30m\u001b[41m@Override\u001b[0m\u001b[1m\u001b[30m //overiding a method\u001b[0m",
      "\u001b[1m\u001b[31mstatic methods cannot be annotated with @Override\u001b[0m",
      ""
     ]
    }
   ],
   "source": [
    "public void sus () {\n",
    "    System.out.println(\"luaincljdnjkladnlkjdas\");\n",
    "}\n",
    "\n",
    "@Override //overiding a method\n",
    "public void sus () {\n",
    "    System.out.println(\"This man is kinda sus!\");\n",
    "}\n",
    "\n",
    "public class Kinish extends Person() { //creating a new object\n",
    "\n",
    "public Kinish { //defining a parameter of the new object\n",
    "    int weight;\n",
    "}\n",
    "\n",
    "public int division(int height) { // polymorphism\n",
    "    System.out.println(\"divions\" + a);\n",
    "}\n",
    "\n",
    "public int division(int height, age) {\n",
    "    System.out.println(\"disision\" + b/a);\n",
    "}\n",
    "}\n",
    "\n",
    "public static void main (String[] args) { //main method\n",
    "    Kinish.sus;\n",
    "    Person Samuel = new Person(73,160);\n",
    "    Samuel.division(height);\n",
    "    Samuel.division(height,age);\n",
    "\n",
    "}\n",
    "\n"
   ]
  },
  {
   "cell_type": "markdown",
   "metadata": {},
   "source": [
    "Then, create a constructor for the subclass that uses the superclass constructor with the **super** keyword, and then adds an additional assignment for the third attribute."
   ]
  },
  {
   "cell_type": "markdown",
   "metadata": {},
   "source": [
    "# Overriding Methods"
   ]
  },
  {
   "cell_type": "markdown",
   "metadata": {},
   "source": [
    "Overriding allows a subclass or child class to provide a specific implementation of a method that has already been provided by a super-classes or parent classes. When a method in a subclass has the same name, same parameters or signature, and same return type (or sub-type) as a method in its super-class, then the method in the subclass will override the method in the super-class."
   ]
  },
  {
   "cell_type": "markdown",
   "metadata": {},
   "source": [
    "![override](https://user-images.githubusercontent.com/44128572/207130820-3838898e-0378-4843-b46a-1b544d4a3737.png)"
   ]
  },
  {
   "cell_type": "code",
   "execution_count": null,
   "metadata": {},
   "outputs": [],
   "source": [
    "    // the existing method in the superclass\n",
    "    public void gearShift () {\n",
    "        System.out.println(\"Use the stick\");\n",
    "    }\n",
    "\n",
    "    public void steer () {\n",
    "        System.out.println(\"turning left...\");\n",
    "    }\n",
    "\n",
    "    // We use override to change the functionality in the subclass of an existing method in the superclass\n",
    "    @Override\n",
    "    public void gearShift () {\n",
    "        System.out.println(\"Use the gear selector next to the wheel\");\n",
    "    }\n",
    "    public void steer () {\n",
    "        System.out.println(\"turning right...\");\n",
    "    }"
   ]
  },
  {
   "cell_type": "markdown",
   "metadata": {},
   "source": [
    "# Hack 2"
   ]
  },
  {
   "cell_type": "markdown",
   "metadata": {},
   "source": [
    "Add a method to the superclass you created before. This method should be very general; it should only have functionality that you know for sure will be needed in almost every single subclass. In your subclass, **override** this method. Remember that overriding the method will give your subclass the specific functionality it needs from that method."
   ]
  },
  {
   "cell_type": "markdown",
   "metadata": {},
   "source": [
    "# Super Keyword"
   ]
  },
  {
   "cell_type": "markdown",
   "metadata": {},
   "source": [
    "The two main uses of the **super keyword** are to use constructors in the superclass and methods in the superclass in a child class."
   ]
  },
  {
   "cell_type": "markdown",
   "metadata": {},
   "source": [
    "In this example child class **TeslaModelS**, the **super** keyword can be found in the constructor and the method horn. When it says, **super(brandName, range, doorNumber, maxSpeed)** in the constructor, the super keyword is used to utilize the super class constructor inside the child class. Next, in the horn() method, **super.horn()** is called. This line utilizes the super keyword to call the method horn() from the parent class Car."
   ]
  },
  {
   "cell_type": "markdown",
   "metadata": {},
   "source": [
    "# Creating References Using Inheritance Hierarchies"
   ]
  },
  {
   "cell_type": "markdown",
   "metadata": {},
   "source": [
    "Type Diagram\n",
    "\n",
    "It is similar to looking at it like a family tree. A is the superclass, or the head of the family. The descendants are the subclasses.\n",
    "\n",
    "So\n",
    "\n",
    "public class A\n",
    "public class B extends A\n",
    "public class C extends B\n",
    "\n",
    "A Reference refers to an object of the class, or the object of an inherited class. So an Inheritance Hierarchy can create references"
   ]
  },
  {
   "cell_type": "markdown",
   "metadata": {},
   "source": [
    "![image](https://user-images.githubusercontent.com/44128572/207392498-7ec46fd4-598f-4412-9f39-7b9fca2c0a47.png)"
   ]
  },
  {
   "cell_type": "markdown",
   "metadata": {},
   "source": [
    "# Polymorphism"
   ]
  },
  {
   "cell_type": "code",
   "execution_count": 8,
   "metadata": {},
   "outputs": [
    {
     "name": "stdout",
     "output_type": "stream",
     "text": [
      "Manual shift!\n",
      "Engaging turbo 1\n",
      "Engaging turbo 1 and nitro 1\n"
     ]
    }
   ],
   "source": [
    "public class ToyotaCamry extends Car {\n",
    "    \n",
    "    public ToyotaCamry (String brandName, double range, double doorNumber, double maxSpeed) {\n",
    "        super(brandName, range, doorNumber, maxSpeed);\n",
    "    }\n",
    "    \n",
    "    @Override\n",
    "    public void gearShift () {\n",
    "        System.out.println(\"Manual shift!\");\n",
    "    }\n",
    "    \n",
    "    public void turbo (int a) {\n",
    "        System.out.println(\"Engaging turbo \" + a);\n",
    "    }\n",
    "    \n",
    "    public void turbo (int a, int b) {\n",
    "        System.out.println(\"Engaging turbo \" + a + \" and nitro \" + b);\n",
    "    }\n",
    "    \n",
    "        \n",
    "    public static void main(String[] args) {\n",
    "        // 4 superclass argument constructor\n",
    "        ToyotaCamry camry = new ToyotaCamry(\"Toyota\", 348, 4, 145);\n",
    "        // Using the overridden method\n",
    "        camry.gearShift();\n",
    "        // Using the overloaded method\n",
    "        camry.turbo(1);\n",
    "        camry.turbo(1, 1);\n",
    "\n",
    "    }\n",
    "}\n",
    "ToyotaCamry.main(null);"
   ]
  },
  {
   "cell_type": "markdown",
   "metadata": {},
   "source": [
    "**Polymorphism** means \"many forms\". It means that we do one thing in many ways through inheritance. "
   ]
  },
  {
   "cell_type": "markdown",
   "metadata": {},
   "source": [
    "For example, the **gearShift** method defined in the superclass simply says to use the stick. But in manual cars and a Tesla, you need to do different things. So, we show the method to shift gears being used in two different ways in two different classes. We can have two different implementations through **overriding** methods. "
   ]
  },
  {
   "cell_type": "markdown",
   "metadata": {},
   "source": [
    "Look at the different outputs for the method in the **ToyotaCamry** and **TeslaModelS** class. "
   ]
  },
  {
   "cell_type": "markdown",
   "metadata": {},
   "source": [
    "This method of polymorphism is called **Runtime Polymorphism**. It is also called **Dynamic Binding** or **Dynamic Method Dispatch**. When you hear any of these things, think of method overriding."
   ]
  },
  {
   "cell_type": "markdown",
   "metadata": {},
   "source": [
    "Imagine if you want to do a single method in a single class, but in different ways. For example, in the **ToyotaCamry** class, we need to either engage a turbo by itself, or a turbo with a nitro. So, we have two methods called **turbo**. When the method is called, the actual functionality is resolved at compile-time. "
   ]
  },
  {
   "cell_type": "markdown",
   "metadata": {},
   "source": [
    "When we call **camry.turbo(1)**, then the single argument turbo method is called. When we call **camry.turbo(1, 1)**, the two argument turbo method is called. "
   ]
  },
  {
   "cell_type": "markdown",
   "metadata": {},
   "source": [
    "Having two methods with the same name but different arguments and functionalities is called **method overloading**. "
   ]
  },
  {
   "cell_type": "markdown",
   "metadata": {},
   "source": [
    "This is another form of polymorphism called **Compile Time Polymorphism** or **Static Polymorphism**. When you see these terms, think of method overloading."
   ]
  },
  {
   "cell_type": "markdown",
   "metadata": {},
   "source": [
    "**Early binding** has to do with when the compiler decides the method to be called. Relate this to Static Polymorphism or method overloading. **Late binding** has to do with when the method is decided at runtime. Relate this to Runtime Polymorphism or method overriding."
   ]
  },
  {
   "cell_type": "markdown",
   "metadata": {},
   "source": [
    "# Hack 3"
   ]
  },
  {
   "cell_type": "markdown",
   "metadata": {},
   "source": [
    "Create another subclass from your original superclass. Now, implement **method overloading** in this subclass. Remember that this means having two methods with the same name, but with different arguments. The method you are using for method overloading doesn't have to exist in the superclass. This will implement **Static Polymorphism**. "
   ]
  },
  {
   "cell_type": "markdown",
   "metadata": {},
   "source": [
    "Next, override the method in your superclass in your new subclass. Make sure it has different functionality than your method in the other subclass. This will implement **Runtime Polymorphism**."
   ]
  },
  {
   "cell_type": "markdown",
   "metadata": {},
   "source": [
    "# Object Superclass"
   ]
  },
  {
   "cell_type": "markdown",
   "metadata": {},
   "source": [
    "Important Things to Know\n",
    "\n",
    "\n",
    "- Object class is the superclass of all other classes in Java\n",
    "- Object is part of the java.lang package (know for imports)\n",
    "- Important Object class methods include: boolean equals(Object x) & String toString()\n",
    "- Object class' subclasses override the equals and toString methods\n"
   ]
  },
  {
   "cell_type": "markdown",
   "metadata": {},
   "source": [
    "toString Method\n",
    "\n",
    "- Prints out the attributes of an object\n",
    "- Converts string object into a string"
   ]
  },
  {
   "cell_type": "markdown",
   "metadata": {},
   "source": [
    "equals Method\n",
    "\n",
    "- Compares two strings\n",
    "- Returns a boolean value of true if equal, otherwise returns false\n"
   ]
  },
  {
   "cell_type": "code",
   "execution_count": null,
   "metadata": {},
   "outputs": [],
   "source": [
    "// Demonstration of toString method\n",
    "// Utilized toString methods in all FRQs so far, here's an example from FRQ1\n",
    "public String dayOfWeekToString() {\n",
    "    return (\"{ \\\"month\\\": \" + this.month + \", \" + \"\\\"day\\\": \" + this.day + \", \" + \"\\\"year\\\": \" + this.year + \", \"\n",
    "          + \"\\\"dayOfWeek\\\": \" + this.dayOfWeek + \" }\");\n",
    " }\n",
    "\n",
    "\n",
    "public String toString() {\n",
    "    return dayOfWeekToString();\n",
    " }"
   ]
  },
  {
   "cell_type": "code",
   "execution_count": 4,
   "metadata": {},
   "outputs": [
    {
     "name": "stdout",
     "output_type": "stream",
     "text": [
      "false\n",
      "false\n",
      "true\n",
      "false\n",
      "false\n",
      "true\n"
     ]
    }
   ],
   "source": [
    "// Demonstration of equals method\n",
    "// Outputs boolean value of true or false\n",
    "// If one object equals another\n",
    "public class Student\n",
    "{\n",
    "   private String name;\n",
    "\n",
    "   public Student(String name)\n",
    "   {\n",
    "      this.name = name;\n",
    "   }\n",
    "\n",
    "   public static void main(String[] args)\n",
    "   {\n",
    "      Student student1 = new Student(\"Bob\");\n",
    "      Student student2 = new Student(\"Jeff\");\n",
    "      Student student3 = student1;\n",
    "      Student student4 = new Student(\"A\");\n",
    "      Student student5 = student4;\n",
    "      System.out.println(student1.equals(student2));\n",
    "      System.out.println(student2.equals(student3));\n",
    "      System.out.println(student1.equals(student3));\n",
    "      System.out.println(student3.equals(student4));\n",
    "      System.out.println(student3.equals(student4));\n",
    "      System.out.println(student5.equals(student4));\n",
    "\n",
    "\n",
    "   }\n",
    "}\n",
    "Student.main(null);"
   ]
  },
  {
   "cell_type": "markdown",
   "metadata": {},
   "source": [
    "# Final Homework\n",
    "\n",
    "Polish up all of the hacks from this lesson. Completed hacks will earn you 0.9/1.\n",
    "\n",
    "For 1/1, submit a complete blog. This means highlighting all key vocabulary, and including original comments in your code to show understanding. This will also help you for Mr. Mort's live review on Thursday."
   ]
  },
  {
   "attachments": {},
   "cell_type": "markdown",
   "metadata": {},
   "source": [
    "- constructor: Where the attributes of a class are defined\n",
    "- Overriding; making a method which has same name as another one, but overrides it with a new job so when called, the new method is called\n",
    "- Polymorphism: running mutliple things at once with the same name, can be done with different amounts of parameters in method\n",
    "- toString method defines and JSONify's data"
   ]
  }
 ],
 "metadata": {
  "kernelspec": {
   "display_name": "Java",
   "language": "java",
   "name": "java"
  },
  "language_info": {
   "codemirror_mode": "java",
   "file_extension": ".jshell",
   "mimetype": "text/x-java-source",
   "name": "java",
   "pygments_lexer": "java",
   "version": "17.0.5+8-Ubuntu-2ubuntu120.04"
  },
  "vscode": {
   "interpreter": {
    "hash": "aee8b7b246df8f9039afb4144a1f6fd8d2ca17a180786b69acc140d282b71a49"
   }
  }
 },
 "nbformat": 4,
 "nbformat_minor": 2
}
