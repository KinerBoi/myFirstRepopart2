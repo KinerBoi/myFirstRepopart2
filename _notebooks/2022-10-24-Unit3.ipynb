{
 "cells": [
  {
   "cell_type": "markdown",
   "metadata": {},
   "source": [
    "# Unit 3 Homework - Kinish S/Rohan J\n",
    "> Doing the Unit 3 homework"
   ]
  },
  {
   "cell_type": "markdown",
   "metadata": {},
   "source": [
    "Question 2"
   ]
  },
  {
   "cell_type": "code",
   "execution_count": 10,
   "metadata": {
    "vscode": {
     "languageId": "java"
    }
   },
   "outputs": [
    {
     "name": "stdout",
     "output_type": "stream",
     "text": [
      "1.0\n",
      "5.0\n",
      "1.0\n",
      "-0.20871215252208009 or -4.7912878474779195\n"
     ]
    }
   ],
   "source": [
    "import java.util.*;\n",
    "\n",
    "public class Quadratic {\n",
    "\n",
    "    public static void main (String[] args) {\n",
    "\n",
    "        Scanner sc = new Scanner(System.in);\n",
    "\n",
    "        double a = sc.nextDouble();\n",
    "        System.out.println(a);\n",
    "        double b = sc.nextDouble();\n",
    "        System.out.println(b);\n",
    "        double c = sc.nextDouble();\n",
    "        System.out.println(c);\n",
    "\n",
    "        double quadratic1 = (-1*b + Math.sqrt(b*b-4*a*c))/2*a;\n",
    "        double quadratic2 = (-1*b - Math.sqrt(b*b-4*a*c))/2*a;\n",
    "\n",
    "        System.out.println(quadratic1 + \" or \" + quadratic2);\n",
    "    }\n",
    "\n",
    "}\n",
    "\n",
    "Quadratic.main(null);"
   ]
  },
  {
   "cell_type": "markdown",
   "metadata": {},
   "source": [
    "Question 4"
   ]
  },
  {
   "cell_type": "code",
   "execution_count": 14,
   "metadata": {
    "vscode": {
     "languageId": "java"
    }
   },
   "outputs": [
    {
     "name": "stdout",
     "output_type": "stream",
     "text": [
      "Input number - 25.0\n",
      "Positive\n"
     ]
    }
   ],
   "source": [
    "import java.util.*;\n",
    "\n",
    "public class Sign {\n",
    "\n",
    "    public static void main (String[] args) {\n",
    "\n",
    "        Scanner sc = new Scanner(System.in);\n",
    "\n",
    "        System.out.print(\"Input number - \");\n",
    "        double input = sc.nextDouble();\n",
    "        System.out.println(input);\n",
    "\n",
    "        if (input < 0) {\n",
    "            System.out.println(\"Negative\");\n",
    "        }\n",
    "        else if (input > 0) {\n",
    "            System.out.println(\"Positive\");\n",
    "        }\n",
    "        else {\n",
    "            System.out.println(0);\n",
    "        }\n",
    "        \n",
    "\n",
    "    }\n",
    "\n",
    "}\n",
    "\n",
    "Sign.main(null);"
   ]
  },
  {
   "cell_type": "markdown",
   "metadata": {},
   "source": [
    "Question 6"
   ]
  },
  {
   "cell_type": "code",
   "execution_count": 15,
   "metadata": {
    "vscode": {
     "languageId": "java"
    }
   },
   "outputs": [
    {
     "name": "stdout",
     "output_type": "stream",
     "text": [
      "Input number - 25.586\n",
      "Input number - 25.589\n",
      "They are different\n"
     ]
    }
   ],
   "source": [
    "import java.util.*;\n",
    "\n",
    "public class Round {\n",
    "\n",
    "    public static void main (String[] args) {\n",
    "\n",
    "        Scanner sc = new Scanner(System.in);\n",
    "\n",
    "        System.out.print(\"Input number - \");\n",
    "        double input1 = sc.nextDouble();\n",
    "        System.out.println(input1);\n",
    "\n",
    "        System.out.print(\"Input number - \");\n",
    "        double input2 = sc.nextDouble();\n",
    "        System.out.println(input2);\n",
    "\n",
    "        input1 = Math.round(input1 * Math.pow(10, 3)) / Math.pow(10, 3);\n",
    "        input2 = Math.round(input2 * Math.pow(10, 3)) / Math.pow(10, 3);\n",
    "\n",
    "        if (input1 == input2) {\n",
    "            System.out.println(\"They are the same\");\n",
    "        }\n",
    "        else {\n",
    "            System.out.println(\"They are different\");\n",
    "        }\n",
    "        \n",
    "\n",
    "    }\n",
    "\n",
    "}\n",
    "\n",
    "Round.main(null);"
   ]
  },
  {
   "cell_type": "markdown",
   "metadata": {},
   "source": [
    "Question 8"
   ]
  },
  {
   "cell_type": "code",
   "execution_count": 46,
   "metadata": {
    "vscode": {
     "languageId": "java"
    }
   },
   "outputs": [
    {
     "name": "stdout",
     "output_type": "stream",
     "text": [
      "Input character - a\n",
      "Character is a vowel\n"
     ]
    }
   ],
   "source": [
    "import java.util.*;\n",
    "\n",
    "public class Letter {\n",
    "\n",
    "    public static void main (String[] args) {\n",
    "\n",
    "        Scanner sc = new Scanner(System.in);\n",
    "\n",
    "        System.out.print(\"Input character - \");\n",
    "        String input1 = sc.next();\n",
    "        System.out.println(input1);\n",
    "\n",
    "\n",
    "        if (input1.equals(\"a\") || input1.equals(\"e\") || input1.equals(\"i\") || input1.equals(\"o\") || input1.equals(\"u\") || input1.equals(\"y\")) {\n",
    "            System.out.println(\"Character is a vowel\");\n",
    "        }\n",
    "        else {\n",
    "            System.out.println(\"Character is a consonant\");\n",
    "        }\n",
    "        \n",
    "\n",
    "    }\n",
    "\n",
    "}\n",
    "\n",
    "Letter.main(null);"
   ]
  },
  {
   "cell_type": "markdown",
   "metadata": {},
   "source": [
    "Question 10"
   ]
  },
  {
   "cell_type": "code",
   "execution_count": 22,
   "metadata": {
    "vscode": {
     "languageId": "java"
    }
   },
   "outputs": [
    {
     "name": "stdout",
     "output_type": "stream",
     "text": [
      "The first 10 natural numbers : \n",
      "1\n",
      "2\n",
      "3\n",
      "4\n",
      "5\n",
      "6\n",
      "7\n",
      "8\n",
      "9\n",
      "10\n"
     ]
    }
   ],
   "source": [
    "public class Natural {\n",
    "\n",
    "    public static void main (String[] args) {\n",
    "\n",
    "\n",
    "        System.out.print(\"The first 10 natural numbers :\");\n",
    "        System.out.println(\" \");\n",
    "\n",
    "        for(int num = 1; num < 11; num++) {\n",
    "            System.out.println(\"Enter\")\n",
    "            System.out.println(num);\n",
    "            int input = sc.nextInt();\n",
    "        }\n",
    "        \n",
    "\n",
    "    }\n",
    "}\n",
    "\n",
    "Natural.main(null);"
   ]
  },
  {
   "cell_type": "markdown",
   "metadata": {},
   "source": [
    "Question 12"
   ]
  },
  {
   "cell_type": "code",
   "execution_count": 31,
   "metadata": {
    "vscode": {
     "languageId": "java"
    }
   },
   "outputs": [
    {
     "name": "stdout",
     "output_type": "stream",
     "text": [
      "Input number :\n",
      "1\n",
      "2\n",
      "3\n",
      "4\n",
      "5\n",
      "Sum is 15\n",
      "Average is 3\n"
     ]
    }
   ],
   "source": [
    "import java.util.*;\n",
    "\n",
    "public class Mean {\n",
    "\n",
    "    public static void main (String[] args) {\n",
    "\n",
    "        int n=0;\n",
    "        int s=0;\n",
    "        int average = 0;\n",
    "\n",
    "        \n",
    "        System.out.println(\"Input number :\");\n",
    "\n",
    "        for (int i = 0; i < 5; i++) {\n",
    "            Scanner sc = new Scanner(System.in);\n",
    "            n = sc.nextInt();\n",
    "            System.out.println(n);\n",
    "            s += n;\n",
    "        }\n",
    "\n",
    "        average = s/5;\n",
    "        System.out.println(\"Sum is \" + s);\n",
    "        System.out.println(\"Average is \" + average);\n",
    "        \n",
    "\n",
    "    }\n",
    "}\n",
    "\n",
    "Mean.main(null);"
   ]
  },
  {
   "cell_type": "markdown",
   "metadata": {},
   "source": [
    "Question 14"
   ]
  },
  {
   "cell_type": "code",
   "execution_count": 34,
   "metadata": {
    "vscode": {
     "languageId": "java"
    }
   },
   "outputs": [
    {
     "name": "stdout",
     "output_type": "stream",
     "text": [
      "Input number :\n",
      "5*0=0\n",
      "5*1=5\n",
      "5*2=10\n",
      "5*3=15\n",
      "5*4=20\n",
      "5*5=25\n"
     ]
    }
   ],
   "source": [
    "import java.util.*;\n",
    "\n",
    "public class Multiplication {\n",
    "\n",
    "    public static void main (String[] args) {\n",
    "\n",
    "        Scanner sc = new Scanner(System.in);\n",
    "        System.out.println(\"Input number :\");\n",
    "        int input = sc.nextInt();\n",
    "        \n",
    "        int product = 0;\n",
    "\n",
    "        for (int i = 0; i < 6; i++) {\n",
    "            product = input * i;\n",
    "            System.out.println(input + \"*\" + i + \"=\" + product);\n",
    "        }        \n",
    "\n",
    "    }\n",
    "}\n",
    "\n",
    "Multiplication.main(null);"
   ]
  },
  {
   "cell_type": "markdown",
   "metadata": {},
   "source": [
    "Question 16"
   ]
  },
  {
   "cell_type": "code",
   "execution_count": 39,
   "metadata": {
    "vscode": {
     "languageId": "java"
    }
   },
   "outputs": [
    {
     "name": "stdout",
     "output_type": "stream",
     "text": [
      "Enter input for number of rows\n",
      " \n",
      "1 \n",
      "12 \n",
      "123 \n",
      "1234 \n",
      "12345 \n",
      "123456 \n",
      "1234567 \n",
      "12345678 \n",
      "123456789 \n"
     ]
    }
   ],
   "source": [
    "import java.util.*;\n",
    "\n",
    "public class Pyramid {\n",
    "\n",
    "    public static void main (String[] args) {\n",
    "\n",
    "        Scanner sc = new Scanner(System.in);\n",
    "        System.out.println(\"Enter input for number of rows\");\n",
    "        int input = sc.nextInt();\n",
    "        \n",
    "\n",
    "        for (int i = 0; i < input; i++) {\n",
    "            for (int j = 1; j <= i; j++) {\n",
    "                System.out.print(j);\n",
    "            }\n",
    "\n",
    "            System.out.println(\" \");\n",
    "        }        \n",
    "\n",
    "    }\n",
    "}\n",
    "\n",
    "Pyramid.main(null);"
   ]
  },
  {
   "cell_type": "markdown",
   "metadata": {},
   "source": [
    "Question 18"
   ]
  },
  {
   "cell_type": "code",
   "execution_count": 44,
   "metadata": {
    "vscode": {
     "languageId": "java"
    }
   },
   "outputs": [
    {
     "name": "stdout",
     "output_type": "stream",
     "text": [
      "Enter input for number of rows\n",
      "1 \n",
      "23 \n",
      "456 \n",
      "78910 \n"
     ]
    }
   ],
   "source": [
    "import java.util.*;\n",
    "\n",
    "public class Triangle {\n",
    "\n",
    "    public static void main (String[] args) {\n",
    "\n",
    "        Scanner sc = new Scanner(System.in);\n",
    "        System.out.println(\"Enter input for number of rows\");\n",
    "        int input = sc.nextInt();\n",
    "        \n",
    "        int k = 1;\n",
    "\n",
    "        for (int i = 1; i < input; i++) {\n",
    "            for (int j = 1; j <= i; j++) {\n",
    "                System.out.print(k++);\n",
    "            }\n",
    "            System.out.println(\" \");\n",
    "        }        \n",
    "\n",
    "    }\n",
    "}\n",
    "\n",
    "Triangle.main(null);"
   ]
  },
  {
   "cell_type": "markdown",
   "metadata": {},
   "source": [
    "Question 20"
   ]
  },
  {
   "cell_type": "code",
   "execution_count": 45,
   "metadata": {
    "vscode": {
     "languageId": "java"
    }
   },
   "outputs": [
    {
     "name": "stdout",
     "output_type": "stream",
     "text": [
      "Enter input for number of rows\n",
      "1  \n",
      "2 3  \n",
      "4 5 6  \n",
      "7 8 9 10  \n",
      "11 12 13 14 15  \n"
     ]
    }
   ],
   "source": [
    "import java.util.*;\n",
    "\n",
    "public class Triangle2 {\n",
    "\n",
    "    public static void main (String[] args) {\n",
    "\n",
    "        Scanner sc = new Scanner(System.in);\n",
    "        System.out.println(\"Enter input for number of rows\");\n",
    "        int input = sc.nextInt();\n",
    "        \n",
    "        int k = 1;\n",
    "\n",
    "        for (int i = 1; i < input; i++) {\n",
    "            for (int j = 1; j <= i; j++) {\n",
    "                System.out.print(k++);\n",
    "                System.out.print(\" \");\n",
    "            }\n",
    "            System.out.println(\" \");\n",
    "        }        \n",
    "\n",
    "    }\n",
    "}\n",
    "\n",
    "Triangle2.main(null);"
   ]
  },
  {
   "cell_type": "markdown",
   "metadata": {},
   "source": [
    "2019 FRQ 1 A"
   ]
  },
  {
   "cell_type": "code",
   "execution_count": 47,
   "metadata": {
    "vscode": {
     "languageId": "java"
    }
   },
   "outputs": [],
   "source": [
    "public static int numberOfLeapYears(int year1, int year2) {\n",
    "    int count = 0;\n",
    "    for (int i = year1; i <= year2; i++) {\n",
    "      // add to count if year is leap year\n",
    "      if (isLeapYear(i)) count++;\n",
    "    }\n",
    "    return count;\n",
    "  }\n",
    "  "
   ]
  },
  {
   "cell_type": "markdown",
   "metadata": {},
   "source": [
    "2019 FRQ 1 B"
   ]
  },
  {
   "cell_type": "code",
   "execution_count": null,
   "metadata": {
    "vscode": {
     "languageId": "java"
    }
   },
   "outputs": [],
   "source": [
    "public static int dayOfWeek(int month, int day, int year) {\n",
    "  int day = firstDayOfYear(year) + dayOfYear(month, day, year) - 1;\n",
    "  // only 7 days in a week\n",
    "  return day % 7;\n",
    "}"
   ]
  }
 ],
 "metadata": {
  "kernelspec": {
   "display_name": "Java",
   "language": "java",
   "name": "java"
  },
  "language_info": {
   "codemirror_mode": "java",
   "file_extension": ".jshell",
   "mimetype": "text/x-java-source",
   "name": "Java",
   "pygments_lexer": "java",
   "version": "11.0.16+8-post-Ubuntu-0ubuntu120.04"
  },
  "orig_nbformat": 4
 },
 "nbformat": 4,
 "nbformat_minor": 2
}
