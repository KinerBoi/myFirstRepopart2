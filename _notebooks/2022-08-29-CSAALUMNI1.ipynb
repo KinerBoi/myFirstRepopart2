{
 "cells": [
  {
   "cell_type": "markdown",
   "metadata": {},
   "source": [
    "# CSA Alumni Meeting 1 \n",
    ">learning more about STEM!\n",
    "- categories: [EC]\n",
    "\n",
    "-many people only got really into CS and STEM subjects in general once taking STEM classes such as AP CSP and CSA\n",
    "-Comp sci can help with other majors; helps diversify skill set!!!\n",
    "\n",
    "Challenges:\n",
    "-starting is the hardest part; everything is confusing at first!\n",
    "    -keeping motivation is key to excelling, solution to everything\n",
    "-EGO CLASH\n",
    "    -dont worry what other people are doing, learn at your own pace and grow!\n",
    "-Dont cut corners just for grade, try to actually learn topic!\n",
    "\n",
    "PBL scenarios in College CompSci classes?\n",
    "-In UCSD, one hands-on project as a freshman and again as a senior\n",
    "-Theory is good, but practicallity is neccessary to know\n",
    "-PBL + Tests in UC schooling system\n",
    "\n",
    "How have you applied CS in your major if not majoring in CS?\n",
    "-Knowing how to code can help write algorithms to solve problems in major that you need\n",
    "-Can code out a 3D model; dont need a model to automatically print if needed\n",
    "-High level math courses can use help of CS to write algorithms\n",
    "    -Jupyter notebooks can be used for technical papers and graphs\n",
    "    -Statistics and Calculus in particular\n",
    "\n",
    "For college students, have you have a job with a proffessor or school?\n",
    "    -Can have jobs at school, need to submit resume\n",
    "    -Can be a TA, intern for proffessor\n",
    "    -AP CSA helped man get internship, work hard and take seriously!!!\n",
    "    -Jobs at Northrupp Gruman\n",
    "\n"
   ]
  }
 ],
 "metadata": {
  "kernelspec": {
   "display_name": "Python 3.8.10 64-bit",
   "language": "python",
   "name": "python3"
  },
  "language_info": {
   "name": "python",
   "version": "3.8.10"
  },
  "orig_nbformat": 4,
  "vscode": {
   "interpreter": {
    "hash": "916dbcbb3f70747c44a77c7bcd40155683ae19c65e1c03b4aa3499c5328201f1"
   }
  }
 },
 "nbformat": 4,
 "nbformat_minor": 2
}
