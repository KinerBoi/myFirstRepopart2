{
 "cells": [
  {
   "attachments": {},
   "cell_type": "markdown",
   "metadata": {},
   "source": [
    "# Whatever I have Learned from this Trimester 2 PBL\n",
    "- categories: [PBL]\n"
   ]
  },
  {
   "attachments": {},
   "cell_type": "markdown",
   "metadata": {},
   "source": [
    "# Comparing Last Trimester and Reviews\n",
    "\n",
    "Last Trimester, I was new to the world of Computer Science. Having only taken a summer course in basic C a month before, and only knowing how to print statements and do basic calculator commands in Python, jumping straight to CSA was definetly a big challenge for me. Trying to adapt was difficult, and figuring out how to code the advanced projects that we did and stil do in this course took a lot of time. To compare how far I've come in this coding journey, I would like to share screenshots from last Trimester and this Trimester and compare the Github statistics of both and compare them.\n",
    "- ![Tri1B](images/Tri-1-Backend.png)\n",
    "- ![Tri1F](images/Tri-1-Frontend.png)\n",
    "- ![Tri2B](images/Tri-2-Backend.png)\n",
    "- ![Tri2F](images/Tri-2-Frontend.png)\n",
    "\n",
    "My commits in both parts of coding have increased, and show the more effort that I have been putting in this course to learn and master the material of making useful applications for people. There have been many successes and many failures in this journey, which I will cover shortly in the other parts of this blog. \n"
   ]
  },
  {
   "attachments": {},
   "cell_type": "markdown",
   "metadata": {},
   "source": [
    "# Success Frontend\n",
    "\n",
    "In the span of this Trimester, I have been able to learn HTML, Javascript, and CSS. As someone who didnt take AP CSP, I had to learn these markup coding languages in order to be successfull in becoming competent at Frontend, from going to 0 to the 60 commits that I have on Frontend. In this trimester, I \n",
    "- Learned the HTML format, tags, and their functions\n",
    "- Learned CSS in order to style a website\n",
    "- Learned Javascript to run frontend dynamic functionability to a website\n",
    "- Made an Interactive Map which is able to desplay organized and vast data\n",
    "- Made a Home page for a webiste and a Navbar to organize different faces of the Website\n",
    "- Collaboratied with Scrum members to make a table of data depicting a bunch of User-inputed recipes\n",
    "- https://ninjabreadlord.github.io/indochina/ (contains the Frontend group our group as a whole has done, has the parts which I described)\n",
    "\n",
    "I would say that I have been very successful in the Frontend department, improving my skills quickly and being able to have some what of a competency in the User Interphase part of the Computer Science world, from being unable to contribute anything to a group to significant portions."
   ]
  },
  {
   "attachments": {},
   "cell_type": "markdown",
   "metadata": {},
   "source": [
    "# Success Backend\n",
    "\n",
    "In the span of this Trimester, I have been able code more Backend on a project which I felt was a lot more complicated than the one that I entook on last tri, from coding simple Mathamtical Calcualtions to trying to store large quantities of calculations. In the sapn of these 4-5 weeks, I  \n",
    "- Learned what a JPArepository was, helping perform CRUD operations (Create, Read, Update, Delete)\n",
    "- Learned and finally understood what GET, POST, and DELETE Mapping were (and related them to the functions in POSTMAN, so I know what im doing more now)\n",
    "- Understood what Getters and Setters were in updating Data\n",
    "\n",
    "I would say that I have definetly improved my Java Coding skills at the advanced level. However, there were significant things that I was unsuccessful at attempting, which I will discuss on in the sext section "
   ]
  },
  {
   "attachments": {},
   "cell_type": "markdown",
   "metadata": {},
   "source": [
    "# Failiure and Things to improve on\n",
    "\n",
    "While I feel that I was successful in many levels, it cannot be denied that I had come up short on many of the goals that I tried to code in this Trimester's PBL. Here is a list of some of them\n",
    "- Failed to Create an Editing Option in the Frontend, to Edit and Save Data \n",
    "- Failed to Create a useful Search option in the Frontend, to search recipes through Hundreds of Data\n",
    "- Failed to Complete the Update POSTMapping on the Backed, to update data and save it\n",
    "\n",
    "These are three things that I failed in completing, and will definetly look at in trying to solve over the next few coming weeks. As my coding skills improve, I hope that these challenges will become easy to solve by the time that I graduate high school."
   ]
  },
  {
   "attachments": {},
   "cell_type": "markdown",
   "metadata": {},
   "source": [
    "# Overall\n",
    "\n",
    "Overall, I feel that progress has been made, and that is something to be proud of from doing nothing to something. Attempts and Effort were made, and around 60% of the time they were successful. However, that shouldn't distract me from the failiures that I have had to deal with this tri, and are issues that I must fix over the coming weeks. Overall, I learned a lot from this PBL, the first True PBL that I contributed to, and I hope to continue learning more as I gain more experience with coding and Computer Science."
   ]
  }
 ],
 "metadata": {
  "kernelspec": {
   "display_name": "Java",
   "language": "java",
   "name": "java"
  },
  "language_info": {
   "name": "java"
  },
  "orig_nbformat": 4
 },
 "nbformat": 4,
 "nbformat_minor": 2
}
