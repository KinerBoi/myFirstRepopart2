{
 "cells": [
  {
   "cell_type": "markdown",
   "metadata": {},
   "source": [
    "# Ceasar Cipher Unit 4 HW"
   ]
  },
  {
   "cell_type": "code",
   "execution_count": 13,
   "metadata": {
    "vscode": {
     "languageId": "java"
    }
   },
   "outputs": [
    {
     "name": "stdout",
     "output_type": "stream",
     "text": [
      "Xhe Ynited Wtates of Emerica\n",
      "Mn Kod ]e trust\n",
      "e pluribus unum, Rovus ordo seclorum\n"
     ]
    }
   ],
   "source": [
    "public class caesarCipher {\n",
    "\n",
    "    public static String crack (String message) {\n",
    "      String crack = \"\";\n",
    "      for (int i = 0; i<message.length(); i++) {\n",
    "        if (message.charAt(i) < 'a' || message.charAt(i) > 'z') {\n",
    "          crack += message.charAt(i);\n",
    "          continue;\n",
    "        }\n",
    "        int letter = message.charAt(i)-'a';\n",
    "        int new_letter = (letter-4)%26;\n",
    "        crack += (char)(new_letter+'a');\n",
    "      }\n",
    "      return crack;\n",
    "    }\n",
    "  \n",
    "    public static void main(String[] args) {\n",
    "  \n",
    "        String message1 = \"Xli Yrmxih Wxexiw sj Eqivmge\";\n",
    "        System.out.println(crack(message1));\n",
    "  \n",
    "        \n",
    "        String message2 = \"Mr Ksh ai xvywx\";\n",
    "        System.out.println(crack(message2));\n",
    "  \n",
    "        String message3 = \"i tpyvmfyw yryq, Rszyw svhs wigpsvyq\";\n",
    "        System.out.println(crack(message3));\n",
    "        \n",
    "\n",
    "    }\n",
    "  }\n",
    "  \n",
    "  caesarCipher.main(null);\n",
    "  "
   ]
  }
 ],
 "metadata": {
  "kernelspec": {
   "display_name": "Java",
   "language": "java",
   "name": "java"
  },
  "language_info": {
   "codemirror_mode": "java",
   "file_extension": ".jshell",
   "mimetype": "text/x-java-source",
   "name": "Java",
   "pygments_lexer": "java",
   "version": "11.0.16+8-post-Ubuntu-0ubuntu120.04"
  },
  "orig_nbformat": 4
 },
 "nbformat": 4,
 "nbformat_minor": 2
}
