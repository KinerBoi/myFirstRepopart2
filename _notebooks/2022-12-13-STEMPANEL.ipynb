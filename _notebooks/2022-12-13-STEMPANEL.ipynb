{
 "cells": [
  {
   "attachments": {},
   "cell_type": "markdown",
   "metadata": {},
   "source": [
    "# Notes/Reflection from Computer Science Panel\n",
    "- categories: [Extras]"
   ]
  },
  {
   "attachments": {},
   "cell_type": "markdown",
   "metadata": {},
   "source": [
    "# Notes\n",
    "\n",
    "# Kathyleen Beveridge\n",
    "- Studied at Santa Clara University and USC\n",
    "- Wells Fargo (Investment banker) -> HP (Cost accountant) -> Qualcomm (Sr. Demand Planning Analyst) -> ThermoFisher (Senior Director of Commercial Excellence)\n",
    "- Mission Statements\n",
    "    -  HP\n",
    "        - Create technology that makes life better for everyone, everywhere\n",
    "    - Qualcomm\n",
    "        - Inventing the tech the world loves\n",
    "    - Thermo Fisher Scientific\n",
    "        - Enable our customers to make the world healthier, cleaner, and safer\n",
    "\n",
    "\n",
    "# Kris Porter \n",
    "- Studied at UCLA and Cal State\n",
    "- Communications systems / computer engineering (computer and electrical engineering is my desired major!!!!!!)\n",
    "- Conducted research at  Center for Embedded Networked Sensors\n",
    "- Networked Infomechanical systems (NIMS)\n",
    "- Introduced to Linux \n",
    "- Timeline\n",
    "    - Graduated - 2008\n",
    "    - Systems engineer at start up (GPM) - 2010\n",
    "    - Streaming Media Infrastructure (NBC Universal) - 2012\n",
    "    - DevOps (Qualcomm) - 2014\n",
    "    - Software engineer (Twitter) - 2021\n",
    "    - Worked on GraphQL\n",
    "- Continued learning throughout his life\n",
    "    - CCNA training\n",
    "    - Machine learning  (Qualcomm)\n",
    "    - Python (Udemy)\n",
    "    - Data structures, algorithms, and systems design for interviews\n",
    "    - Twitter onboarding\n"
   ]
  },
  {
   "attachments": {},
   "cell_type": "markdown",
   "metadata": {},
   "source": [
    "# Review \n",
    "\n",
    "From the computer science and technical business panel, I learned a lot. The first thing that I learned was that it was never too late to pursue what you are interested in, and to always try new things. I saw that from both panelists, who switched multiple jobs pursuing what they loved, even as time passed on for them. Another thing which I took away from this lesson would be how impactful our generation comping up will be in the technology field, exemplified by Mrs.Beveridge who exemplified how the companies she worked for, such as HP and Qualcomm were committed to making our world a better place with advancements in STEM, solving many of the problems our society faces in the modern age. One final but important nonetheless connection that I made would be to Mr.Porter, who worked as a computer engineer. As being a computer/electrical engineer is my dream job, it was refreshing to hear someone talk about ther profession a little which I could relate to, and also comforted me on how even though one gets a degree for a course, in the real world one would be able to apply their knowledge to numerous fields, something that I resonate with as someone who would like to a a little bit of everything. Overall, this meeting was very enlightening, and I was glad to hear this panel!"
   ]
  }
 ],
 "metadata": {
  "kernelspec": {
   "display_name": "Java",
   "language": "java",
   "name": "java"
  },
  "language_info": {
   "name": "java"
  },
  "orig_nbformat": 4
 },
 "nbformat": 4,
 "nbformat_minor": 2
}
