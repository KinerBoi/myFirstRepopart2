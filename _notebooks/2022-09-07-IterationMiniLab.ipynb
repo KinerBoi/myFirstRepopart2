{
 "cells": [
  {
   "cell_type": "markdown",
   "metadata": {},
   "source": [
    "# Amongus Impostors identification array"
   ]
  },
  {
   "cell_type": "code",
   "execution_count": 1,
   "metadata": {},
   "outputs": [],
   "source": [
    "int[] amongus = {1,2,3,4,5,6,7,8,9,10};\n",
    "import java.util.Scanner;\n",
    "\n",
    "public class changingValues { \n",
    "\n",
    "    System.out.println(\"Values for string already inputed in, now must do tricks with them to get credit for assignment\");\n",
    "    System.out.println(amongus[1]);\n",
    "    System.out.println(\"This is the current value for the array amongus in the second element.\" \\n);\n",
    "    Scanner input = new Scanner(System.in);\n",
    "    System.out.println(\"Now enter a new value for the second amongus element: \");\n",
    "    double farenheit = input.nextDouble(); \n",
    "    System.out.println(amongus[1]);\n",
    "    System.out.println(\"The value for the second amongus array element has been changed!\");\n",
    "\n",
    "    if ()) {\n",
    "        System.out.println(\"True code block\");\n",
    "    }\n",
    "    \n",
    "    if (true && !false) {\n",
    "        System.out.println(\"True and Not False code block\");\n",
    "    }\n",
    "    \n",
    "    if (true || false) {\n",
    "        System.out.println(\"True or False code block\");\n",
    "    }\n",
    "    \n",
    "    if ((true && !false) && (true || false)) {\n",
    "        System.out.println(\"Confusing code block\");\n",
    "    }\n",
    "    \n",
    "    if (!((false || !true) || (false && true))) {\n",
    "        System.out.println(\"De Morgan's law in my head of confusing code block\");\n",
    "    }\n",
    "    \n",
    "\n",
    "}"
   ]
  }
 ],
 "metadata": {
  "kernelspec": {
   "display_name": "Java",
   "language": "java",
   "name": "java"
  },
  "language_info": {
   "codemirror_mode": "java",
   "file_extension": ".jshell",
   "mimetype": "text/x-java-source",
   "name": "java",
   "pygments_lexer": "java",
   "version": "11.0.16+8-post-Ubuntu-0ubuntu120.04"
  },
  "orig_nbformat": 4
 },
 "nbformat": 4,
 "nbformat_minor": 2
}
