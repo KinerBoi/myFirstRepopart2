{
 "cells": [
  {
   "cell_type": "markdown",
   "metadata": {},
   "source": [
    "# Unit 1-5 Review + Vocab List\n",
    "> List of CS terms list\n",
    "> [CB]"
   ]
  },
  {
   "cell_type": "markdown",
   "metadata": {},
   "source": [
    "# Unit 1\n"
   ]
  },
  {
   "cell_type": "markdown",
   "metadata": {},
   "source": [
    "- Primitives (int, char,double,bool) vs Object (String, other classes)\n",
    "- Primitives only have value, Objects have properties\n",
    "Homework: We did this unit, so no HW needed to be done\n",
    "- Casting: Defining the variable of a prinitive, can be used to either round a number (Truncate) or to get the decimal value of a number\n",
    "    -done by (primitive)variable_name\n",
    "- Warapper Class: Used to convert Primitive Data Types into Objects\n"
   ]
  },
  {
   "cell_type": "code",
   "execution_count": 5,
   "metadata": {
    "vscode": {
     "languageId": "java"
    }
   },
   "outputs": [
    {
     "name": "stdout",
     "output_type": "stream",
     "text": [
      "0\n",
      "6.9\n",
      "6\n"
     ]
    }
   ],
   "source": [
    "//CASTING EXAMPLE\n",
    "\n",
    "int g = 1;\n",
    "int h = 3;\n",
    "int f = g/h;\n",
    "\n",
    "System.out.println(f); //prints out 0, if double would be 0.33 because it keeps out double's place\n",
    "\n",
    "double c = 6.9;\n",
    "\n",
    "// No casting (shows full decimal)\n",
    "System.out.println(c);\n",
    "\n",
    "// casting to integer (rounds down to 6)\n",
    "System.out.println((int)c);\n"
   ]
  },
  {
   "cell_type": "code",
   "execution_count": 4,
   "metadata": {
    "vscode": {
     "languageId": "java"
    }
   },
   "outputs": [
    {
     "name": "stdout",
     "output_type": "stream",
     "text": [
      "[10, 10]\n"
     ]
    }
   ],
   "source": [
    "// WRAPPER CLASS EXAMPLE\n",
    "\n",
    "int b = 10;\n",
    "\n",
    "// Using \"Integer\" wrapper class\n",
    "ArrayList<Integer> list = new ArrayList<Integer>();\n",
    "\n",
    "// Creating \"Integer\" from int\n",
    "Integer b_wrap = new Integer(b);\n",
    "list.add(b_wrap);\n",
    "\n",
    "// Adding A again to they arraylist with wrapper class\n",
    "list.add(b);\n",
    "\n",
    "//Printing Both elements\n",
    "System.out.println(list);\n"
   ]
  },
  {
   "cell_type": "markdown",
   "metadata": {},
   "source": [
    "# Unit 2"
   ]
  },
  {
   "cell_type": "markdown",
   "metadata": {},
   "source": [
    "- Object is a created instance in a class with a constructor (thing which helps create and define instances)\n",
    "- Static methods and properties based on class, cannot be used in other classes\n",
    "- Methods can have more than 1 parameter, as long as the types and name of them are different\n",
    "- Homework: https://kinerboi.github.io/myFirstRepopart2/2022/10/23/Unit2HW.html \n",
    "- Concatenation: Allows for combining Strings together with the + sign when printing out code\n",
    "- Math class: Built in Java functions which allow someone to do mathematical operations instead of hardcoding them.\n",
    "- Comparing Numbers/Strings/Objects: == to check if values have equal value, /= to check if values do not equal each other\n",
    "- Truth Tables: Used to determine whether a expression is true/false for all input values \n",
    "    - && is and\n",
    "    - || is or\n",
    "    - true = true;\n",
    "    - false = false;\n",
    "    - == is equals\n",
    "    - != is not equals"
   ]
  },
  {
   "cell_type": "code",
   "execution_count": 8,
   "metadata": {
    "vscode": {
     "languageId": "java"
    }
   },
   "outputs": [
    {
     "name": "stdout",
     "output_type": "stream",
     "text": [
      "The San Francisco 49ers 100% ong fr.\n"
     ]
    }
   ],
   "source": [
    "//CONCATENATION EXAMPLE \n",
    "String a = \"The\";\n",
    "String b = \" San Francisco 49ers \";\n",
    "int c = 100;\n",
    "String d = \"% ong fr.\";\n",
    "\n",
    "System.out.println(a+b+c+d);"
   ]
  },
  {
   "cell_type": "code",
   "execution_count": 12,
   "metadata": {
    "vscode": {
     "languageId": "java"
    }
   },
   "outputs": [
    {
     "name": "stdout",
     "output_type": "stream",
     "text": [
      "100.0\n"
     ]
    }
   ],
   "source": [
    "//MATH CLASS EXAMPLE\n",
    "double n = 10;\n",
    "double o = Math.pow(n,2); //to take the square root of n (or 10)\n",
    "\n",
    "System.out.println(o);\n"
   ]
  },
  {
   "cell_type": "code",
   "execution_count": 14,
   "metadata": {
    "vscode": {
     "languageId": "java"
    }
   },
   "outputs": [
    {
     "name": "stdout",
     "output_type": "stream",
     "text": [
      "true\n",
      "true\n",
      "false\n",
      "true\n",
      "false\n",
      "true\n"
     ]
    }
   ],
   "source": [
    "//COMPARING NUMBERS/STRINGS/OBJECTS\n",
    "\n",
    "int a = 0;\n",
    "int b = 0;\n",
    "int c = 1;\n",
    "\n",
    "// Comparing two same numbers\n",
    "System.out.println(a == b);\n",
    "\n",
    "// Comparing two different numbers\n",
    "System.out.println(a != c);\n",
    "System.out.println(a == c);\n",
    "\n",
    "String as = new String(\"holy\");\n",
    "String bs = new String(\"holy\");\n",
    "\n",
    "// Comparing the same string to itself (SAME memory location)\n",
    "System.out.println(as == as);\n",
    "\n",
    "// Comparing strings with same content using wrong operator \n",
    "System.out.println(as == bs);\n",
    "\n",
    "// Comparing strings with right function .equals()\n",
    "System.out.println(as.equals(bs));\n",
    "\n"
   ]
  },
  {
   "cell_type": "markdown",
   "metadata": {},
   "source": [
    "# Unit 3"
   ]
  },
  {
   "cell_type": "markdown",
   "metadata": {},
   "source": [
    "- Booleans store true or false\n",
    "- Can be generated with comaprisons (==,>,<,>=,<=)\n",
    "- Compound Boolean Expression can be made combining various conditons with &&,||,==,!= (Look for Basic Definitions up top to see meaning)\n",
    "- if statements take boolean conditional and do code based on such\n",
    "- else if/else statements can expand code\n",
    "- De Morgan's Law (!(a && b) = !a || !b) AND (!(a || b) = !a && !b)\n",
    "- Truth Tables \n",
    "- Homework: https://kinerboi.github.io/myFirstRepopart2/2022/10/24/Unit3.html\n"
   ]
  },
  {
   "cell_type": "code",
   "execution_count": null,
   "metadata": {
    "vscode": {
     "languageId": "java"
    }
   },
   "outputs": [],
   "source": [
    "// COMPOUND BOOLEAN EXPRESSION  \n",
    "\n"
   ]
  },
  {
   "cell_type": "code",
   "execution_count": 15,
   "metadata": {
    "vscode": {
     "languageId": "java"
    }
   },
   "outputs": [
    {
     "name": "stdout",
     "output_type": "stream",
     "text": [
      "true\n"
     ]
    }
   ],
   "source": [
    "// DE MORGAN'S LAW EXAMPLE\n",
    "\n",
    "boolean a = true;\n",
    "boolean b = false;\n",
    "\n",
    "// complicated boolean expression\n",
    "boolean res1 = !(a && b) || !(a || b);\n",
    "// !a || !b || !a && !b\n",
    "//True, because in all cases it cannot be either a or b\n",
    "\n",
    "System.out.println(res1);\n",
    "\n"
   ]
  },
  {
   "cell_type": "markdown",
   "metadata": {},
   "source": [
    "# Unit 4"
   ]
  },
  {
   "cell_type": "markdown",
   "metadata": {},
   "source": [
    "- While loop runs WHILE a boolean coditional is true\n",
    "- For loops iterate and increase in loops throghout until conditional value is met\n",
    "- Enhanced for loops can iterate though all values of an arrary, but that value cant be changed\n",
    "- Homework: https://kinerboi.github.io/myFirstRepopart2/2022/10/23/Unit4HW.html \n",
    "- For/Enhanced For loops are to iterate through a loop until a condition is met\n",
    "- While and Do While loop runs while a condition is true\n",
    "    - While loop runs check before each iteration of code is run\n",
    "    - Do While loop runs check after each iteration of code is run\n",
    "- Nested loops are loops within loops"
   ]
  },
  {
   "cell_type": "code",
   "execution_count": 69,
   "metadata": {
    "vscode": {
     "languageId": "java"
    }
   },
   "outputs": [
    {
     "name": "stdout",
     "output_type": "stream",
     "text": [
      "20\n",
      "20\n"
     ]
    }
   ],
   "source": [
    "//LOOP CONDITIONALS\n",
    " int sum = 0;\n",
    " int sum1 = 0;\n",
    " int[] arr = {2, 4, 6, 8};\n",
    "\n",
    "\n",
    " for(int i = 0; i < arr.length; i++)  { //condition to keep loop running\n",
    "     sum = sum + arr[i]; //adding up values in array\n",
    " }\n",
    " System.out.println(sum);\n",
    "\n",
    "\n",
    " for(int i : arr) { //enhanced for loop especially used for Arrays\n",
    "    sum1 = sum1 + i; //adding up values of array                    \n",
    " }\n",
    " System.out.println(sum1);\n"
   ]
  },
  {
   "cell_type": "code",
   "execution_count": 36,
   "metadata": {
    "vscode": {
     "languageId": "java"
    }
   },
   "outputs": [
    {
     "name": "stdout",
     "output_type": "stream",
     "text": [
      "36\n",
      "45\n"
     ]
    }
   ],
   "source": [
    "int i = 0;\n",
    "int steps = 0;\n",
    "\n",
    "while (i < 9) {\n",
    "    steps = steps + i;\n",
    "    i++;\n",
    "}\n",
    "System.out.println(steps);\n",
    "\n",
    "do {\n",
    "    steps = steps + i;\n",
    "    i++;\n",
    "} while (i < 9);\n",
    "System.out.println(steps);\n",
    "  \n",
    "//seeing how differentt values pop up, based on checking before or after increment"
   ]
  },
  {
   "cell_type": "code",
   "execution_count": 67,
   "metadata": {
    "vscode": {
     "languageId": "java"
    }
   },
   "outputs": [
    {
     "name": "stdout",
     "output_type": "stream",
     "text": [
      "1 2 3 \n",
      "4 5 6 \n",
      "7 8 9 \n",
      "  0   \n"
     ]
    }
   ],
   "source": [
    "//NESTED LOOP EXAMPLE\n",
    "\n",
    "String [][] phoneKeyboard = {\n",
    "    {\"1\", \"2\", \"3\"},\n",
    "    {\"4\", \"5\", \"6\"},\n",
    "    {\"7\", \"8\", \"9\"},\n",
    "    {\" \", \"0\",\" \" }\n",
    "  };\n",
    "  \n",
    "\n",
    "  for (int i = 0; i< phoneKeyboard.length; i++) {\n",
    "    for (int j = 0; j< phoneKeyboard[i].length; j++) {\n",
    "      System.out.print(phoneKeyboard[i][j] + \" \");\n",
    "    }\n",
    "    System.out.println();\n",
    "  }  \n",
    "\n",
    "\n"
   ]
  },
  {
   "cell_type": "markdown",
   "metadata": {},
   "source": [
    "# Unit 5"
   ]
  },
  {
   "cell_type": "markdown",
   "metadata": {},
   "source": [
    "- Classes used to create objects, have properties and methods\n",
    "    - Properties stre info about class, can be made public (accessible thoghout code) or private (accessible in class only)\n",
    "    - Methods modify object\n",
    "- Getters/Setters can be used to retrieve data from a private class\n",
    "- Homework: https://kinerboi.github.io/myFirstRepopart2/2022/10/20/Class.html \n",
    "- Creating a Class, describe Naming Conventions\n",
    "    - Camel case, first letter of word always lowercase and then first letter of next word is upper case\n",
    "    - No Spaces in a class name\n",
    "- Constructor, describe why there is no return\n",
    "    -Constructor is where all the objects of class are defined, thus letting one know what properties a class has\n",
    "- Accessor methods, relationship to getter\n",
    "    - help get the value of one variable, accssing it and storing the value temporarily\n",
    "    - funciton will have primitive type based on type of primitive that the value is \n",
    "- Mutator methods, relationship to setter, describe void return type\n",
    "    - take the temporarily stored value, and sets it to another variable which can be used for other tasks\n",
    "    - are void functions, because they do not return any value\n",
    "- Static variables\n",
    "    - Static Variables are variables that are common to all parts of the class\n",
    "- Show use case of access modifiers: Public, Private\n",
    "    - Public Classes are classes which are acccessible everywhere in code\n",
    "    - Private Classes are classes wherre primitives and other data types are accessible within the class only\n",
    "- Static methods\n",
    "    - Methods that are already defined in class, do not need to be made manually unlike other Class methods\n",
    "- this Keyword\n",
    "    - Allowa one to access properties inside class\n",
    "    - Assumes class in which this Keyword is called is the default class that user means to call\n",
    "- main method, tester methods\n",
    "    -Where code is implemented and ran\n",
    "- Inheritance, extends\n",
    "    - Made to extend a defined class, and add more methods and properties into it\n",
    "- Overloading a method, same name different parameters\n",
    "    - Help to calculate the same things with same method name without needing to worry aout the type of primitive variable\n",
    "- Overriding a method, same signature of a method\n",
    "    - Where the definition of a subclass becomes the default definition of the main class\n",
    "- Abstract Class, Abstract Method\n",
    "    -Classes and methods, without any definition to them (no code written define the abstract class, allowing one to make new objects in seperate classes based on abstract class)\n",
    "- Standard methods: toString(), equals(), hashCode()\n",
    "    - These methods help to access and print out final information without needing to access methods in class, thus allowing one to just print the method\n"
   ]
  },
  {
   "cell_type": "code",
   "execution_count": 76,
   "metadata": {
    "vscode": {
     "languageId": "java"
    }
   },
   "outputs": [],
   "source": [
    "//CLASS, NAMING CONVEENTIONS, TESTER METHOD, CONSTRUCTOR CODE\n",
    " public class thisAnimal { //camel case, public class\n",
    "    int legs = 4; //primitive variables\n",
    "    int face = 1;\n",
    "\n",
    "    public thisAnimal (int legs, int face) { //contstructor defining class with variables\n",
    "        this.legs = legs; //this keyWord referring to thisAnimal class\n",
    "        this.face = face;\n",
    "    }\n",
    "\n",
    "    public void main (String[] args) { //Tester Method\n",
    "        System.out.println(legs);\n",
    "    }\n",
    "\n",
    " }"
   ]
  },
  {
   "cell_type": "code",
   "execution_count": 111,
   "metadata": {
    "vscode": {
     "languageId": "java"
    }
   },
   "outputs": [
    {
     "ename": "CompilationException",
     "evalue": "",
     "output_type": "error",
     "traceback": [
      "\u001b[1m\u001b[30m|   \u001b[1m\u001b[30m        thisAnimal thisTiger = new thisAnimal\u001b[0m\u001b[1m\u001b[30m\u001b[41m\u001b[0m\u001b[1m\u001b[30m;\u001b[0m",
      "\u001b[1m\u001b[31m'(' or '[' expected\u001b[0m",
      ""
     ]
    }
   ],
   "source": [
    "//Setters and Getters code\n",
    "\n",
    "public class thisAnimal { //camel case, public class\n",
    "    int legs = 4; //primitive variables\n",
    "    int face = 1;\n",
    "\n",
    "    public thisAnimal (int legs1, int face1) { //contstructor defining class with variables\n",
    "        this.legs = legs1; //this keyWord referring to thisAnimal class\n",
    "        this.face = face1;\n",
    "    }\n",
    "\n",
    "    public int getThisAnimal() {\n",
    "        return this.legs;\n",
    "    }\n",
    "\n",
    "    public void setThisAnimal(int legsFinal) {\n",
    "        this.legs = legsFinal;\n",
    "    }\n",
    "\n",
    "    public static void main (String[] args) { //Tester Method\n",
    "\n",
    "        thisAnimal thisTiger = new thisAnimal;\n",
    "\n",
    "        System.out.println(thisTiger.getThisAnimal());\n",
    "    }\n",
    "\n",
    " }\n",
    "\n",
    " thisAnimal.main(null);\n"
   ]
  },
  {
   "cell_type": "code",
   "execution_count": 86,
   "metadata": {
    "vscode": {
     "languageId": "java"
    }
   },
   "outputs": [
    {
     "name": "stdout",
     "output_type": "stream",
     "text": [
      "she is a 8/10\n"
     ]
    }
   ],
   "source": [
    "//STATIC METHOD CODE\n",
    "\n",
    "class staticClass {\n",
    "  // static method\n",
    "  static String coolMethod (String k) {\n",
    "    return k + \" is \";\n",
    "  }\n",
    "\n",
    "  // static property\n",
    "  static int mujer = 8;\n",
    "\n",
    "  public static void main(String[] args) {\n",
    "    // no object needed \n",
    "    System.out.print(staticClass.coolMethod(\"she\"));\n",
    "    System.out.println(\"a \" + staticClass.mujer + \"/10\");\n",
    "  }\n",
    "}\n",
    "\n",
    "staticClass.main(null);\n"
   ]
  }
 ],
 "metadata": {
  "kernelspec": {
   "display_name": "Java",
   "language": "java",
   "name": "java"
  },
  "language_info": {
   "codemirror_mode": "java",
   "file_extension": ".jshell",
   "mimetype": "text/x-java-source",
   "name": "Java",
   "pygments_lexer": "java",
   "version": "17.0.5+8-Ubuntu-2ubuntu120.04"
  },
  "orig_nbformat": 4
 },
 "nbformat": 4,
 "nbformat_minor": 2
}
