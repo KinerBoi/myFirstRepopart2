{
 "cells": [
  {
   "cell_type": "markdown",
   "metadata": {},
   "source": [
    "# FRQ 1\n",
    "> Doing the 2009 AP CSA FRQ 1\n",
    "- categories: [CB]"
   ]
  },
  {
   "cell_type": "code",
   "execution_count": null,
   "metadata": {},
   "outputs": [],
   "source": [
    "import java.util.Scanner;\n",
    "\n",
    "public int getDuration()\n",
    "{\n",
    "\n",
    "  int flights;\n",
    "  System.out.println(\"Please enter the time of flight departure!\");\n",
    "  Scanner input = new Scanner(System.in); \n",
    "\n",
    "  System.out.println(\"Please enter the time of flight arrival!\");\n",
    "  Scanner input = new Scanner(System.in);\n",
    "\n",
    " if (flights == 0)\n",
    " {\n",
    "   return 0;\n",
    " }\n",
    " else\n",
    " {\n",
    "   double start = 0;\n",
    "   double end = 0;\n",
    "\n",
    "  double time = 0;\n",
    "\n",
    "  time = end - start;\n",
    "\n",
    "  return time;\n",
    " }\n",
    "} \n",
    " \n"
   ]
  },
  {
   "cell_type": "markdown",
   "metadata": {},
   "source": [
    "# 1a\n",
    "The point of this code is to figure out whether any flights are available in the airport. The code uses an if else statement to figure that out, by using the properties of the class getDuration and then calculates the time taken for the flight based on when it departs and when it arrives."
   ]
  },
  {
   "cell_type": "code",
   "execution_count": 14,
   "metadata": {},
   "outputs": [],
   "source": [
    "public int getShortestLayover()\n",
    "{\n",
    " if (flights.size() < 2) {\n",
    "    return(0);\n",
    " }\n",
    " else\n",
    " {\n",
    "    int shortest = getDuration();\n",
    "        for (int i = 0; i < flights()-1; i++) {\n",
    "            arrive = flights.getArrivalTime();\n",
    "            Time leave = getDepartureTime();\n",
    "            int layover = leave - arrival;\n",
    "            if (layover < shortest)\n",
    "            {\n",
    "            shortest = layover;\n",
    "            }\n",
    "        }\n",
    " return(shortest);\n",
    " }\n",
    "}"
   ]
  },
  {
   "cell_type": "markdown",
   "metadata": {},
   "source": [
    "# 1b\n",
    "This code essentially uses an if else statement to figure out which flights are closest to when one arrives, and to do so uses a if else statement, saying that if two flights are less than 2 (two flights connecting) then the code returns 0, or else it finds the time and arrival times, calculates the layover for each array and then sorts each value based on its value, and returns it.\n"
   ]
  }
 ],
 "metadata": {
  "kernelspec": {
   "display_name": "Java",
   "language": "java",
   "name": "java"
  },
  "language_info": {
   "codemirror_mode": "java",
   "file_extension": ".jshell",
   "mimetype": "text/x-java-source",
   "name": "java",
   "pygments_lexer": "java",
   "version": "11.0.16+8-post-Ubuntu-0ubuntu120.04"
  },
  "orig_nbformat": 4,
  "vscode": {
   "interpreter": {
    "hash": "916dbcbb3f70747c44a77c7bcd40155683ae19c65e1c03b4aa3499c5328201f1"
   }
  }
 },
 "nbformat": 4,
 "nbformat_minor": 2
}
