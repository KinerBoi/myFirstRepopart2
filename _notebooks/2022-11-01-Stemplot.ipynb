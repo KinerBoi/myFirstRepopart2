{
 "cells": [
  {
   "cell_type": "code",
   "execution_count": 1,
   "metadata": {
    "vscode": {
     "languageId": "java"
    }
   },
   "outputs": [],
   "source": [
    "%%loadFromPOM\n",
    "<dependency>\n",
    "    <groupId>jfree</groupId>\n",
    "    <artifactId>jfreechart</artifactId>\n",
    "    <version>1.0.13</version>\n",
    "</dependency>\n"
   ]
  },
  {
   "cell_type": "code",
   "execution_count": 15,
   "metadata": {
    "vscode": {
     "languageId": "java"
    }
   },
   "outputs": [
    {
     "name": "stdout",
     "output_type": "stream",
     "text": [
      "| 0  | 1.0 2.0 \n",
      "| 1  | 5.0 \n",
      "| 3  | 5.0 \n",
      "| 11 | 5.0 \n",
      "| 13 | 5.5 \n",
      "\n"
     ]
    }
   ],
   "source": [
    "import java.util.Collections;\n",
    "import java.util.LinkedList;\n",
    "import java.util.List;\n",
    "import java.util.Map;\n",
    "import java.util.TreeMap;\n",
    "\n",
    "\n",
    "List<String> TheList = new ArrayList<String>();\n",
    "\n",
    "\n",
    "public class StemAndLeaf {\n",
    "\n",
    "\tpublic static String createPlot() {\n",
    "\n",
    "            List<Double> sorted = new ArrayList<Double>();\n",
    "            sorted.add(1.0);\n",
    "            sorted.add(2.0);\n",
    "            sorted.add(15.0);\n",
    "            sorted.add(35.0);\n",
    "            sorted.add(115.0);\n",
    "            sorted.add(135.5);\n",
    "\n",
    "            TreeMap<Integer, List<Double>> stemPlot = new TreeMap<>();\n",
    "\n",
    "\n",
    "            for(int i = 0;  i < sorted.size(); i++) {\n",
    "                int stem = (int)(sorted.get(i) / 10.0);\n",
    "                double leaf = sorted.get(i) % 10;\n",
    "\n",
    "                if (!stemPlot.containsKey(stem)) {\n",
    "                    stemPlot.put(stem, new ArrayList<>());\n",
    "                }\n",
    "                \n",
    "                stemPlot.get(stem).add(leaf);\n",
    "\n",
    "            }\n",
    "\n",
    "            String plot = new String();\n",
    "\n",
    "            for(Integer i : stemPlot.keySet()) {\n",
    "                if (i < 10) plot+= \"| \" + i + \"  | \";\n",
    "                else plot += \"| \" + i + \" | \";\n",
    "                for (Double j : stemPlot.get(i)) {\n",
    "                    plot+=\"\"+j+\" \";\n",
    "                }\n",
    "                plot+=\"\\n\";\n",
    "            }\n",
    "\n",
    "            return plot;\n",
    "\n",
    "    }\n",
    "\n",
    "}\n",
    "\n",
    "System.out.println(StemAndLeaf.createPlot());\n",
    "\n"
   ]
  }
 ],
 "metadata": {
  "kernelspec": {
   "display_name": "Java",
   "language": "java",
   "name": "java"
  },
  "language_info": {
   "codemirror_mode": "java",
   "file_extension": ".jshell",
   "mimetype": "text/x-java-source",
   "name": "Java",
   "pygments_lexer": "java",
   "version": "11.0.16+8-post-Ubuntu-0ubuntu120.04"
  },
  "orig_nbformat": 4,
  "vscode": {
   "interpreter": {
    "hash": "916dbcbb3f70747c44a77c7bcd40155683ae19c65e1c03b4aa3499c5328201f1"
   }
  }
 },
 "nbformat": 4,
 "nbformat_minor": 2
}
