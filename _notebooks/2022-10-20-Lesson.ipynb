{
 "cells": [
  {
   "cell_type": "markdown",
   "metadata": {},
   "source": [
    "# Unit 1 Lesson\n",
    "> Learning how to use Primitives and Data types!\n",
    "- categories: [CB]"
   ]
  },
  {
   "cell_type": "markdown",
   "metadata": {},
   "source": [
    "# Why to use Java? (1.1)\n",
    "\n",
    "Java is an important programming language that is widely used throughout the tech industry and contains many important programmming concepts such as object oriented programming."
   ]
  },
  {
   "cell_type": "markdown",
   "metadata": {},
   "source": [
    "# Basic Java (1.1)\n",
    "\n",
    "- All code that runs must be in the main method (shown below)\n",
    "- To print something, use System.out.print(); and inside the parenthesis put text in quotes (String)\n",
    "    - To print with a new line, use System.out.println();\n",
    "- To comment your code, use // for single line comments and /**/ for multiple lines (example will be shown below)\n",
    "    - It is important to describe how and why your code works, however dont describe obvious things"
   ]
  },
  {
   "cell_type": "code",
   "execution_count": 5,
   "metadata": {},
   "outputs": [
    {
     "name": "stdout",
     "output_type": "stream",
     "text": [
      "Hello World From Team Oops!\n",
      "Welcome to our presentation!\n",
      "We hope you learn something from it!"
     ]
    }
   ],
   "source": [
    "public class Example {\n",
    "\n",
    "    public static void main(String[] args) {\n",
    "\n",
    "        System.out.print(\"Hello World\");  \n",
    "        System.out.print(\" From Team Oops!\");\n",
    "        System.out.println(); //done to separate two different lines \n",
    "        System.out.println(\"Welcome to our presentation!\");\n",
    "        System.out.print(\"We hope you learn something from it!\");\n",
    "\n",
    "    }\n",
    "}\n",
    "\n",
    "Example.main(null);"
   ]
  },
  {
   "cell_type": "markdown",
   "metadata": {},
   "source": [
    "# Hack 1.1\n",
    "\n",
    "Print your name and your team name in separate lines!\n"
   ]
  },
  {
   "cell_type": "code",
   "execution_count": null,
   "metadata": {},
   "outputs": [],
   "source": [
    "public class Printing {\n",
    "\n",
    "}\n",
    "\n",
    "Printing.main(null);"
   ]
  },
  {
   "cell_type": "markdown",
   "metadata": {},
   "source": [
    "# List of Data Types (1.2)\n",
    "- Data types are different categories in which one can store various types of data.\n",
    "- The main Primitve data types are: \n",
    "    - Integer (int): used for whole numbers\n",
    "    - Double (double): used for numbers with decimals\n",
    "    - Boolean (boolean): used for true or false conditionals\n",
    "- For Primitive types, variables store actual data instead of reference\n",
    "- If the variable is declared final, it cannot be edited\n",
    "- A non Primitive type which is commonly used is String\n",
    "    - Stores text\n",
    "\n"
   ]
  },
  {
   "cell_type": "code",
   "execution_count": 8,
   "metadata": {},
   "outputs": [
    {
     "name": "stdout",
     "output_type": "stream",
     "text": [
      "10\n",
      "7.99\n",
      "Team Oops is hot:true\n"
     ]
    }
   ],
   "source": [
    "public class Example {\n",
    "\n",
    "    public static void main(String[] args) {\n",
    "\n",
    "        int Herbo = 10;\n",
    "        double gasPrices = 7.99;\n",
    "        final boolean Hot = true;\n",
    "        String name = \"Team Oops is hot:\";\n",
    "\n",
    "        System.out.println(Herbo);\n",
    "        System.out.println(gasPrices);\n",
    "        System.out.println(name + Hot);\n",
    "\n",
    "        // Hot = false; cannot assign a value to final variable Hot \n",
    "\n",
    "    }\n",
    "}\n",
    "\n",
    "Example.main(null);"
   ]
  },
  {
   "cell_type": "markdown",
   "metadata": {},
   "source": [
    "# Hack 1.2\n",
    "Create variables for your biodata (name, age, underclassmen or not, height in feet)\n"
   ]
  },
  {
   "cell_type": "code",
   "execution_count": null,
   "metadata": {},
   "outputs": [],
   "source": [
    "public class Biodata {\n",
    "\n",
    "    public static void main(String[] args) {\n",
    "\n",
    "\n",
    "    }\n",
    "}\n",
    "\n",
    "Biodata.main(null);"
   ]
  },
  {
   "cell_type": "markdown",
   "metadata": {},
   "source": [
    "# Operators (1.3)\n",
    "- In order to perform mathmatical calculations on integers and doubles, you can use operators\n",
    "- Main ones are +, -, *, / \n",
    "    - These are what you expect \n",
    "    - When dividing integers, it always rounds down because output must be an integer\n",
    "    - When dividing by 0, will get the ArithemticException Error\n",
    "- Modulus is %, used to get remainder when two numbers are divided\n"
   ]
  },
  {
   "cell_type": "code",
   "execution_count": 11,
   "metadata": {},
   "outputs": [
    {
     "name": "stdout",
     "output_type": "stream",
     "text": [
      "7\n",
      "7.0\n",
      "-3\n",
      "-3.0\n",
      "10\n",
      "10.0\n",
      "0\n",
      "0.4\n",
      "1.0\n",
      "1\n"
     ]
    }
   ],
   "source": [
    "public class Math {\n",
    "\n",
    "    public static void main(String[] args) {\n",
    "\n",
    "        int number = 2;\n",
    "        int number2 = 5;\n",
    "        double number3 = 2.0;\n",
    "        double number4 = 5.0;\n",
    "\n",
    "        System.out.println(number+number2);\n",
    "        System.out.println(number3+number4);\n",
    "        System.out.println(number-number2);\n",
    "        System.out.println(number3-number4);\n",
    "        System.out.println(number * number2);\n",
    "        System.out.println(number3 * number4);\n",
    "        System.out.println(number/number2);\n",
    "        System.out.println(number3/number4);\n",
    "        System.out.println(number4 % number3);\n",
    "        System.out.println(number2 % number);\n",
    "    }\n",
    "}\n",
    "\n",
    "Math.main(null);"
   ]
  },
  {
   "cell_type": "markdown",
   "metadata": {},
   "source": [
    "# Hack 1.3\n",
    "- Compute the remainder of 6 multiplied by 1234124 divided by 11345 minus 890809 plus 90800 (use order of operations) is divided by 980098, and store this in a variable called num (get an exact number as opposed to a whole number)\n",
    "- Divide num by 100\n",
    "- Print num"
   ]
  },
  {
   "cell_type": "code",
   "execution_count": null,
   "metadata": {},
   "outputs": [],
   "source": [
    "public class Num {\n",
    "\n",
    "    public static void main(String[] args) {\n",
    "\n",
    "    }\n",
    "}\n",
    "\n",
    "Num.main(null);"
   ]
  },
  {
   "cell_type": "markdown",
   "metadata": {},
   "source": [
    "# Assignment operators (1.4)\n",
    "- += adds value of a variabe to another variable and assigns total value to first variable\n",
    "- -= subtracts value of a variabe to another variable and assigns total value to first variable\n",
    "- *= multiplies value of a variabe to another variable and assigns total value to first variable\n",
    "- /= multiplies value of a variabe to another variable and assigns total value to first variable\n",
    "- %= takes the remainder of a variable with a second variable and assigns remainder to first variable\n",
    "- ++ increments a variable by 1, to incrememt by more change second plus to number which you want to incrememnt by\n",
    "- -- subracts a variable by 1, to incrememt by more change second plus to number which you want to subtract by"
   ]
  },
  {
   "cell_type": "markdown",
   "metadata": {},
   "source": [
    "# Hack 1.4\n",
    "- Create a code which performs mathmatical calculations with assignment operators!"
   ]
  },
  {
   "cell_type": "code",
   "execution_count": null,
   "metadata": {},
   "outputs": [],
   "source": [
    "public class Operators {\n",
    "\n",
    "    public static void main(String[] args) {\n",
    "\n",
    "    }\n",
    "}\n",
    "\n",
    "Operators.main(null);"
   ]
  },
  {
   "cell_type": "markdown",
   "metadata": {},
   "source": [
    "# Casting and Ranges (1.5)\n",
    "- Doubles and Integers can be converted to each other using (int) or (double)\n",
    "    - When converting from doubles to integers, will round down\n",
    "- Integers are 4 bytes of data, can store between Integer.MAX_VALUE and Integer.MIN_VALUE\n",
    "\n"
   ]
  },
  {
   "cell_type": "code",
   "execution_count": 13,
   "metadata": {},
   "outputs": [
    {
     "name": "stdout",
     "output_type": "stream",
     "text": [
      "10.5\n",
      "100\n",
      "10\n",
      "100.0\n",
      "2147483647\n",
      "-2147483648\n"
     ]
    }
   ],
   "source": [
    "public class Cast {\n",
    "\n",
    "    public static void main(String[] args) {\n",
    "        double num = 10.5;\n",
    "        int num2 = 100;\n",
    "        int numInt = (int)num;\n",
    "        double num2Double = (double)num2;\n",
    "\n",
    "        System.out.println(num);\n",
    "        System.out.println(num2);\n",
    "        System.out.println(numInt);\n",
    "        System.out.println(num2Double);\n",
    "        System.out.println(Integer.MAX_VALUE);\n",
    "        System.out.println(Integer.MIN_VALUE);\n",
    "\n",
    "\n",
    "    }\n",
    "}\n",
    "\n",
    "Cast.main(null);"
   ]
  },
  {
   "cell_type": "markdown",
   "metadata": {},
   "source": [
    "# Hack 1.5\n",
    "- Convert 123456.123456 into an integer \n",
    "- Set 678901234567890 into an integer (what do you think will happen?)\n"
   ]
  },
  {
   "cell_type": "code",
   "execution_count": null,
   "metadata": {},
   "outputs": [],
   "source": [
    "public class CastActivity {\n",
    "\n",
    "    public static void main(String[] args) {\n",
    "\n",
    "\n",
    "    }\n",
    "}\n",
    "\n",
    "CastActivity.main(null);"
   ]
  },
  {
   "cell_type": "markdown",
   "metadata": {},
   "source": [
    "# Code Example!"
   ]
  },
  {
   "cell_type": "code",
   "execution_count": 1,
   "metadata": {},
   "outputs": [
    {
     "name": "stdout",
     "output_type": "stream",
     "text": [
      "What is your name?\n",
      "Kinish\n",
      "How many pizzas do you want to buy?\n",
      "6\n",
      "Do you have the discount (true/false)?\n",
      "true\n",
      "Hi K! You have to pay 7.776 dollars.\n"
     ]
    }
   ],
   "source": [
    "public class Main {\n",
    "    public static void main (String[] args) {\n",
    "      Scanner sc = new Scanner(System.in);\n",
    "      System.out.println(\"What is your name?\");\n",
    "      String name = sc.next(); //string\n",
    "      System.out.println(name);\n",
    "      System.out.println(\"How many pizzas do you want to buy?\");\n",
    "      int pizzas = sc.nextInt(); //integer\n",
    "      System.out.println(pizzas);\n",
    "      System.out.println(\"Do you have the discount (true/false)?\");\n",
    "      boolean hasDiscount = sc.nextBoolean(); //boolean\n",
    "      System.out.println(hasDiscount);\n",
    "  \n",
    "      double price; //double, defaults to 0\n",
    "      if (hasDiscount) {\n",
    "        price = 1.20;\n",
    "      } else {\n",
    "        price = 2.10;\n",
    "      }\n",
    "  \n",
    "      char firstChar = name.charAt(0); //character\n",
    "      double finalPrice = price * pizzas * 1.08; // adding taxes\n",
    "  \n",
    "      System.out.println(\"Hi \" + firstChar + \"! You have to pay \" + (finalPrice) + \" dollars.\");\n",
    "    }\n",
    "  }\n",
    "  \n",
    "  Main.main(null);"
   ]
  }
 ],
 "metadata": {
  "kernelspec": {
   "display_name": "Java",
   "language": "java",
   "name": "java"
  },
  "language_info": {
   "codemirror_mode": "java",
   "file_extension": ".jshell",
   "mimetype": "text/x-java-source",
   "name": "java",
   "pygments_lexer": "java",
   "version": "11.0.16+8-post-Ubuntu-0ubuntu120.04"
  },
  "orig_nbformat": 4
 },
 "nbformat": 4,
 "nbformat_minor": 2
}
