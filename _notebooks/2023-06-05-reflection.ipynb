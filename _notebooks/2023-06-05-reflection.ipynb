{
 "cells": [
  {
   "attachments": {},
   "cell_type": "markdown",
   "metadata": {},
   "source": [
    "# Year of CSA review \n",
    "- categories: [CB]"
   ]
  },
  {
   "attachments": {},
   "cell_type": "markdown",
   "metadata": {},
   "source": [
    "# Reflection of Computer Science\n",
    "\n",
    " - As someoen new to the field of CS, taking AP CSA was definetly a challenging ordeal. From learning how to code in a language to knowing syntax to logic, everything was very new to me. I struggled in the beginning, and definetly did not make a lot of progress in the first 6 weeks of first trimester. My first project involved a statistics calculator that I got massively carried on by Rohan Juneja, but it still showed me the intricate parts of making a website. I remember taking a Collegeboard test for the first time as well, getting a 19/40 and failing it completely due to many factors but also my beginner level showing. Trimester 2 I remember being engaged in the class a lot more of the time and learning, handling down much of computer science and finaly being able to grasp a lot of subjects. This carried over to our team project that trimester, making a cokking website and being able to add a lot of features like a map, a login, a search bar, cookies to store recipies, and much more. Trimester 3 was to prepare for the AP exam, learning about new data structures and getting in tune with what they are and do. As such, I felt decently prepared for the AP exam and felt like I passed the test, which was not bad for a first time student learning CS. After the AP Exam, I began to learn a lot more about HTML, CSS, and Javascript, making our DoodleJump game in the proccess, and finally ending the year. Through many ups and downs, we finally made it through, and I consider that an achievement"
   ]
  },
  {
   "attachments": {},
   "cell_type": "markdown",
   "metadata": {},
   "source": [
    "# Skills I have obtained\n",
    "\n",
    "- Basic Java\n",
    "- Basic understianding HTML/Javascript/CSS\n",
    "- Understanding the concept of website deployment\n",
    "- Learning to speak up about work"
   ]
  },
  {
   "attachments": {},
   "cell_type": "markdown",
   "metadata": {},
   "source": [
    "# Future plans + Compsci's involvement of them\n",
    "\n",
    "- Plan to major in Electrical/Computer Engineering\n",
    "- Minor in Astronomy, Meteorology, or Marine Biology\n",
    "- CS will be a component of skills neccessary for my major/minor, as such will need to know some basic coding skills from multiple languages such as Java, Python, C, etc.\n",
    "- Will definetly carry on lessons from this class into the world of college and the future"
   ]
  },
  {
   "attachments": {},
   "cell_type": "markdown",
   "metadata": {},
   "source": [
    "# Final words\n",
    "\n",
    "- As challenging as this class may have been, I am glad to have taken it and to have gotten some kind of experience into the computer science world. I will take away many lessons and memories from this class, and will try to implemen them in the future. I'll try to visit Del Norte whenever I can and reconnect with base in order to confirm whether I am going in the right path in life or not."
   ]
  }
 ],
 "metadata": {
  "kernelspec": {
   "display_name": "Java",
   "language": "java",
   "name": "java"
  },
  "language_info": {
   "name": "java"
  },
  "orig_nbformat": 4
 },
 "nbformat": 4,
 "nbformat_minor": 2
}
