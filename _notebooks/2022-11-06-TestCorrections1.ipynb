{
 "cells": [
  {
   "cell_type": "markdown",
   "metadata": {},
   "source": [
    "# Unit 1 Trimester Review \n",
    "- categories: [CB]"
   ]
  },
  {
   "cell_type": "markdown",
   "metadata": {},
   "source": [
    "# Unit 1\n",
    "- Primitives (int, char,double,bool) vs Object (String, other classes)\n",
    "- Primitives only have value, Objects have properties\n",
    "Homework: We did this unit, so no HW needed to be done\n"
   ]
  },
  {
   "cell_type": "markdown",
   "metadata": {},
   "source": [
    "# Unit 2\n",
    "- Object is a created instance in a class with a constructor (thing which helps create and define instances)\n",
    "- Static methods and properties based on class, cannot be used in other classes\n",
    "- Methods can have more than 1 parameter, as long as the types and name of them are different\n",
    "- Homework: https://kinerboi.github.io/myFirstRepopart2/2022/10/23/Unit2HW.html "
   ]
  },
  {
   "cell_type": "markdown",
   "metadata": {},
   "source": [
    "# Unit 3\n",
    "- Booleans store true or false\n",
    "- Can be generated with comaprisons (==,>,<,>=,<=\n",
    "- if statements take boolean conditional and do code based on such\n",
    "- else if/else statements can expand code\n",
    "- De Morgan's Law (!(a && b) = !a || !b) AND (!(a || b) = !a && !b)\n",
    "- Homework: https://kinerboi.github.io/myFirstRepopart2/2022/10/24/Unit3.html "
   ]
  },
  {
   "cell_type": "markdown",
   "metadata": {},
   "source": [
    "# Unit 4\n",
    "- While loop runs WHILE a boolean coditional is true\n",
    "- For loops iterate and increase in loops throghout until conditional value is met\n",
    "- Enhanced for loops can iterate though all values of an arrary, but that value cant be changed\n",
    "- Homework: https://kinerboi.github.io/myFirstRepopart2/2022/10/23/Unit4HW.html "
   ]
  },
  {
   "cell_type": "markdown",
   "metadata": {},
   "source": [
    "# Unit 5\n",
    "- Classes used to create objects, have properties and methods\n",
    "    - Properties stre info about class, can be made public (accessible thoghout code) or private (accessible in class only)\n",
    "    - Methods modify object\n",
    "- Getters/Setters can be used to retrieve data from a private class\n",
    "- Homework: https://kinerboi.github.io/myFirstRepopart2/2022/10/20/Class.html "
   ]
  },
  {
   "cell_type": "markdown",
   "metadata": {},
   "source": [
    "# Unit 6\n",
    "- Arrays can be used to store multiple rows/columns of dats\n",
    "- Initialized as (type NameOfArray[])\n",
    "- Can be iterated through using For Loops\n",
    "- Homework: https://kinerboi.github.io/myFirstRepopart2/2022/10/20/Unit6HW.html "
   ]
  },
  {
   "cell_type": "markdown",
   "metadata": {},
   "source": [
    "# Unit 1 MC Test corrections\n",
    "> Here I will say my score and my views on it, do test corrections, and overall review what I got wrong.\n"
   ]
  },
  {
   "cell_type": "markdown",
   "metadata": {},
   "source": [
    "# Score\n",
    "I got a 15/40 the first time taking the 2014 AP CSA Practice MC. That is not a good score, and I am not satisfied with it. I thoughts on this score will be stated once I review the questions which I got wrong"
   ]
  },
  {
   "cell_type": "markdown",
   "metadata": {},
   "source": [
    "# Question 7\n",
    "![quesiton 7](images/Question-7-2014.png)\n",
    "\n",
    "This question was a silly mistake. I did not read the part under where a new object student was created from the Class person. It makes sense now why the answer to this question would be D, and not E\n"
   ]
  },
  {
   "cell_type": "markdown",
   "metadata": {},
   "source": [
    "# Question 8\n",
    "![question 8](images/Question-8-2014.png)\n",
    "\n",
    "This question was also a silly mistake. Option 1 should also have worked, because it still initializes a new object in the class even though no parameters are passed. Thus, the right answer should be C instead of B\n",
    "\n"
   ]
  },
  {
   "cell_type": "markdown",
   "metadata": {},
   "source": [
    "# Question 9\n",
    "![question 9](images/Question-9-2014.png)\n",
    "\n",
    "This question was also a silly mistake. The reason that it would have been B instead of C, is because when iterating in this case i starts at 1 instead of 0, so in order to iterate the whole array the array index must be i-1\n"
   ]
  },
  {
   "cell_type": "markdown",
   "metadata": {},
   "source": [
    "# Question 10 (Need to review!)\n",
    "![question 10](images/Question-10-2014.png)\n",
    "\n",
    "This question was kind of confusing when I first saw it, but afterword reading the explaination it made a lot of sense. If there is no value of 5 in the array, then the sequence will eventually throw an ArrayIndexOutOfBoundsException. As such, the answer will be B."
   ]
  },
  {
   "cell_type": "markdown",
   "metadata": {},
   "source": [
    "# Question 11 \n",
    "![quesion 11](images/Question-11-2014.png)\n",
    "\n",
    "This question makes a lot more sense once you realize the wording of the previous question, so it is kind of a silly mistake but also not at the same time. In order to not return a ArrayIndexOutOfBoundsException, you can make an if conditional that once all the data is gone through, if a particular number last isnt there, then it just returns -1 or false. As such, the correct answer would indeed be B.\n"
   ]
  },
  {
   "cell_type": "markdown",
   "metadata": {},
   "source": [
    "# Question 12\n",
    "![question 12](images/Question-12-2014.png)\n",
    "\n",
    "This question was a silly mistake. As incrementing by k+1 will get the k values of 1,3,5,and 7 being less than 8 (the word length for computer), and the second part where output (k is added by one) returns all of the values of string[1],string[3],string[5],and string[7], thus outputting \"optr\".\n"
   ]
  },
  {
   "cell_type": "markdown",
   "metadata": {},
   "source": [
    "# Question 14 (Need to review!)\n",
    "![question 14](images/Question-14-2014.png)\n",
    "\n",
    "This question did not make sense at first, but after reading the explaination makes a lot of sense. As Vehicle v is supposed be a particular vehicle in the ArrayList myVehicles, you are only returning the mileage of the specific vehicle, and the syntax of my initial choice doesnt even make sense. As such, E should be the right answer\n"
   ]
  },
  {
   "cell_type": "markdown",
   "metadata": {},
   "source": [
    "# Question 15\n",
    "![question 15](images/Question-15-2014.png)\n",
    "\n",
    "This question is definetly a silly mistake. The reason that Option 2 doest work, is because by starting the iteration of the for loop at 0 and all the way to data.length, the data would be iterating to an extra value that does not really exist, and therefore an error would be thrown up. "
   ]
  },
  {
   "cell_type": "markdown",
   "metadata": {},
   "source": [
    "# Question 16 (Need to review!)\n",
    "![question 16](images/Question-16-2014.png)\n",
    "\n",
    "This question did not make sense when first doing it, but when reading the explaination kind of makes sense. As the second array is trying to be returned after the first array, you must add the length of the first array in order to do that."
   ]
  },
  {
   "cell_type": "markdown",
   "metadata": {},
   "source": [
    "# Question 17 \n",
    "![question 17](images/Question-17-2014.png)\n",
    "\n",
    "This question is a silly mistake. As k starts at index 3 instead at 0, the only numbers which would be changed are from 4 and up. The last 7 would remain because the loop terminates after the 6 before is turned into a 7, making the final values {1,2,3,5,6,7,7}. Thereforce, C is the right answer\n"
   ]
  },
  {
   "cell_type": "markdown",
   "metadata": {},
   "source": [
    "# Question 18\n",
    "![question 18](images/Question-18-2014.png)\n",
    "\n",
    "The question didnt make sense at first, but after reading it makes sense. As the beginning of any array index is 0, by subrtracting -1 from the array index you have a value which doesnt exist, resulting in an error. Thus, B is the right answer.\n"
   ]
  },
  {
   "cell_type": "markdown",
   "metadata": {},
   "source": [
    "# Question 19 (Need to review!)\n",
    "![questoon 19](images/Question-19-2014.png)\n",
    "\n",
    "This is essentially a question on DeMortgan's Law, the two ! cancel out the first condition making it the same, but the !(b > 7) translates to (b <= 7). Therefore, B is the right answer."
   ]
  },
  {
   "cell_type": "markdown",
   "metadata": {},
   "source": [
    "# Question 22\n",
    "![question 22](images/Question-22-2014.png)\n",
    "\n",
    "This was a silly mistake. I did not notice that the method pagesPerMinute was under the extended class AudioBooks, and not in the parent class Books. As it was a method under the AudioBooks  extended class, it makes sense that Line 4 would be an error because it is pagesPerMinute is accessed through Books, which cant happen. Thus, the correct answer has to be B.\n",
    "\n"
   ]
  },
  {
   "cell_type": "markdown",
   "metadata": {},
   "source": [
    "# Question 24 (Need to review!)\n",
    "![question 24](images/Question-24-2014.png)\n",
    "\n",
    "This required conceptual understanding of 2D arrays, something which I need to brush up on. The reason the answer here is D, or 7, is because while int value = old array, the code iterates through row numbers until it mods to 0, until when the if loop is reset and the column array is incremented. By the time that the code finishes, the values will look lke {1,4,7} {2,5,8} and {3,6,9}. As by printing out the value [0][2] means printing the first row and third column in that row, the value printed will indeed be 7. This is a topic that I do indeed need to refresh upon and master\n"
   ]
  },
  {
   "cell_type": "markdown",
   "metadata": {},
   "source": [
    "# Question 25 \n",
    "![question 25](images/Question-25-2014.png)\n",
    "\n",
    "This question was a silly mistake. Option I would still be correct, because it fetches the values of the length height and width of the smaller box, which can be compared with to the larger box later in the code; it does not neccessarily have to be written in that class. Therefore, Option I would also work alongside with Option II in order to figure that out,  making D the right answer"
   ]
  },
  {
   "cell_type": "markdown",
   "metadata": {},
   "source": [
    "# Question 26\n",
    "![question 26](images/Question-26-2014.png)\n",
    "\n",
    "This question is probably the biggest silly mistake I have made so far. As k is an array index, it could still be odd and printed out, which ruins the whole point of the code. In order to avoid that, one could use an enhanced for loop to assign every value in arr[] to x, and if those values (x) have no remainder when divided by 2(therefore even), then they are printed out."
   ]
  },
  {
   "cell_type": "markdown",
   "metadata": {},
   "source": [
    "# Question 27\n",
    "![question 27](images/Question-27-2014.png)\n",
    "\n",
    "This questuon was a silly mistake. As the conditional states that the code will run as long as n < 2, and n is inputed as 6, that means that the code will run like this 4 times\n",
    "x = 1\n",
    "y = 1\n",
    "x = x + y\n",
    "y = x - y\n",
    "\n",
    "n = 6\n",
    "x = 1+1 =2 \n",
    "y = 2-1 = 1\n",
    "\n",
    "n = 5\n",
    "x = 2+1 = 3\n",
    "y = 3-1 = 2\n",
    "\n",
    "n = 4\n",
    "x = 3 + 2 = 5\n",
    "y = 5 - 2 = 3\n",
    "\n",
    "n = 3\n",
    "x = 5 + 3 = 8\n",
    "y = 8 - 3 = 5\n",
    "\n",
    "Therefore, as x is returned, the value it returns would be 8.\n"
   ]
  },
  {
   "cell_type": "markdown",
   "metadata": {},
   "source": [
    "# Question 30 (Need to review!)\n",
    "![Question 30](images/Question-30-2014.png)\n",
    "\n",
    "This question needed conceptual understanding for me. However, it makes sense when going over the answer. As the parameter howFar+1 is essentially saying at what paramenter the word should be printed, and as howFar is initialized as 3, that means after m the world compiler will be printed, therefore resulting in \"iler\" and as the howFar is added to the front, the second part of the word would be \"com\" as it will go 3 iterations, therefore the printed string will be \"ilercom\" "
   ]
  },
  {
   "cell_type": "markdown",
   "metadata": {},
   "source": [
    "# Question 31 (Need to review!)\n",
    "![Question 31](images/Question-31-2014.png)\n",
    "\n",
    "This question also required conceptual understanding. As the line of code \"data[k+1] = data[k] + data[k+1]\", it doesnt neccessarily replace previosu values, but adds on from previous numbers and then returns them, thus meaning that the printed values would be 5 7 8 11 19, making C the right answer."
   ]
  },
  {
   "cell_type": "markdown",
   "metadata": {},
   "source": [
    "# Question 33 \n",
    "![Question 33](images/Question-33-2014.png)\n",
    "\n",
    "This was a silly mistake, as I do not know how I missed this. But as the conditional says that the code will contiune as long as sum < 12 || k < 4 (or conditional), and as k will always be 1 and never change in value, the loop will continue infinitely, making E the right answer. Very silly mistake.\n"
   ]
  },
  {
   "cell_type": "markdown",
   "metadata": {},
   "source": [
    "# Question 34\n",
    "![Question 34](images/Question-34-2014.png)\n",
    "\n",
    "This question was a silly mistake, as x and y are objects in the class Point, they cannot be accessed directly through x and y. Therefore, the third option is wrong, and the only valid answer would be B. \n"
   ]
  },
  {
   "cell_type": "markdown",
   "metadata": {},
   "source": [
    "# Question 36\n",
    "![Question 36](images/Question-34-2014.png)\n",
    "\n",
    "This question was a silly mistake. As 8,11,and 13 would check the first and second parameters, but as 11 and 13 are greater than 9 it wont return -1 for those numbers. But with using 8,9,and 11, one can then get a return of -1 from 9, because 9 is not greater than 9. Thus, the answer is C."
   ]
  },
  {
   "cell_type": "markdown",
   "metadata": {},
   "source": [
    "# Question 39 (Needs revision!)\n",
    "![Question 39](images/Question-39-2014.png)\n",
    "\n",
    "This question is tricky, and is conceptual based. Essentially, to summarize the \n"
   ]
  },
  {
   "cell_type": "markdown",
   "metadata": {},
   "source": [
    "# Question 40 (Needs revision!)\n",
    "![Question 40](images/Question-40-2014.png)\n",
    "\n",
    "This was a understandable mistake . As the condtional states that length must be greater than 1, that means the function is trying to add letters and not remove them. The length is equal to the total length of the string, and starting from String[0] prints out the word in imcrements letter by letter until (len-1) is reached\n",
    "\n"
   ]
  },
  {
   "cell_type": "markdown",
   "metadata": {},
   "source": [
    "# Reflection\n",
    "\n",
    "Overall, I frankly did horribly on this MC, getting a 15/40 (not even 50%). I think there are many reasons for this, which I will list down below:\n",
    "    - Sleep and exhaust: I was running on 5 hours of sleep and took the test at 5 am in the morning of Saturday on an empty stomach and headache, not a really smart decision when concering your grade\n",
    "    - Cockiness: A lot of the questions that I got wrong were silly mistakes, which could have been a avoided if i rechecked answeres and wasnt cocky about myself\n",
    "    - Some of the topics I had legimately not brushed up on a while, such as 2D arrays and calling methods in classes (would definetly try to spend more time on those topics), strengthening myself in those topics would be helpful\n",
    "    - Getting used to the collegeboard questions. I felt like the questions given by groups in class were definetly a lot easier than the collegeboard questions, and as it was my first time takin an AP CS MCQ, I was familiar with the question style.\n",
    "    \n",
    "Overall, this was clearly not my brightest score. However, I did learn a lot of lessons from this test (dont be cocky, check answers, review before taking test, get some rest before). As I wanted to make sure that the reason I got this score was my personal own fault, and not a lack of knowing the material, I took an AP CSA MCQ practice test online, and got a score of 28/40, which is above the requirement and is a lot better than 15/40 (The test and the answer key will be linked here)\n",
    "\n",
    "(test) https://www.apcsaexam.org/uploads/1/0/7/7/107712547/2016_practice_ap_exam.pdf)\n",
    "(answer key) https://www.apcsaexam.org/uploads/1/0/7/7/107712547/2016_practice_ap_exam._answers.pdf "
   ]
  },
  {
   "cell_type": "markdown",
   "metadata": {},
   "source": [
    "# Extra Credit Attempt"
   ]
  },
  {
   "cell_type": "markdown",
   "metadata": {},
   "source": [
    "# Backend"
   ]
  },
  {
   "cell_type": "code",
   "execution_count": 2,
   "metadata": {
    "vscode": {
     "languageId": "java"
    }
   },
   "outputs": [
    {
     "name": "stdout",
     "output_type": "stream",
     "text": [
      "hello world\n",
      "hello world\n",
      "hello world\n",
      "hello world\n",
      "hello world\n",
      "hello world\n",
      "hello world\n",
      "hello world\n",
      "hello world\n",
      "hello world\n",
      "hello world\n",
      "hello world\n",
      "hello world\n",
      "hello world\n",
      "hello world\n",
      "hello world\n",
      "hello world\n",
      "hello world\n",
      "hello world\n",
      "hello world\n",
      "hello world\n",
      "hello world\n",
      "hello world\n",
      "hello world\n",
      "hello world\n",
      "hello world\n",
      "hello world\n",
      "hello world\n",
      "hello world\n",
      "hello world\n",
      "hello world\n",
      "hello world\n",
      "hello world\n",
      "hello world\n",
      "hello world\n",
      "hello world\n",
      "hello world\n",
      "hello world\n",
      "hello world\n",
      "hello world\n",
      "hello world\n",
      "hello world\n",
      "hello world\n",
      "hello world\n",
      "hello world\n",
      "hello world\n",
      "hello world\n",
      "hello world\n",
      "hello world\n",
      "hello world\n",
      "hello world\n",
      "hello world\n",
      "hello world\n",
      "hello world\n",
      "hello world\n",
      "hello world\n",
      "hello world\n",
      "hello world\n",
      "hello world\n",
      "hello world\n",
      "hello world\n",
      "hello world\n",
      "hello world\n",
      "hello world\n",
      "hello world\n",
      "hello world\n",
      "hello world\n",
      "hello world\n",
      "hello world\n",
      "hello world\n",
      "hello world\n",
      "hello world\n",
      "hello world\n",
      "hello world\n",
      "hello world\n",
      "hello world\n",
      "hello world\n",
      "hello world\n",
      "hello world\n",
      "hello world\n",
      "hello world\n",
      "hello world\n",
      "hello world\n",
      "hello world\n",
      "hello world\n",
      "hello world\n",
      "hello world\n",
      "hello world\n",
      "hello world\n",
      "hello world\n",
      "hello world\n",
      "hello world\n",
      "hello world\n",
      "hello world\n",
      "hello world\n",
      "hello world\n",
      "hello world\n",
      "hello world\n",
      "hello world\n",
      "hello world\n"
     ]
    }
   ],
   "source": [
    "import java.lang.Thread;\n",
    "public class Increment {\n",
    "    public static void main(String[] args) {\n",
    "\n",
    "        int count = 0;\n",
    "\n",
    "        try {\n",
    "            while (count < 100) {\n",
    "                System.out.println(\"hello world\");\n",
    "                Thread.sleep(3000);\n",
    "                count++;\n",
    "            }\n",
    "\n",
    "        }\n",
    "\n",
    "        catch (Exception e) {\n",
    "\n",
    "        }\n",
    "\n",
    "    }\n",
    "}\n",
    "Increment.main(null);"
   ]
  },
  {
   "cell_type": "markdown",
   "metadata": {},
   "source": [
    "# Frontend (Javascript API Fetch)\n",
    "\n",
    "-Link to Frontend"
   ]
  }
 ],
 "metadata": {
  "kernelspec": {
   "display_name": "Java",
   "language": "java",
   "name": "java"
  },
  "language_info": {
   "codemirror_mode": "java",
   "file_extension": ".jshell",
   "mimetype": "text/x-java-source",
   "name": "Java",
   "pygments_lexer": "java",
   "version": "11.0.16+8-post-Ubuntu-0ubuntu120.04"
  },
  "orig_nbformat": 4
 },
 "nbformat": 4,
 "nbformat_minor": 2
}
