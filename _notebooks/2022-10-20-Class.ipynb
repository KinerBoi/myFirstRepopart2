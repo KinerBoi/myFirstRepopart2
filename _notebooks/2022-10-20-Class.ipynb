{
 "cells": [
  {
   "cell_type": "markdown",
   "metadata": {},
   "source": [
    "frontmatter"
   ]
  },
  {
   "cell_type": "code",
   "execution_count": 10,
   "metadata": {},
   "outputs": [
    {
     "name": "stdout",
     "output_type": "stream",
     "text": [
      "0\n",
      "NaN\n",
      "0\n",
      "7000.0\n",
      "1\n",
      "9000.0\n",
      "2\n",
      "10222.2\n"
     ]
    }
   ],
   "source": [
    "public class StepTracker {\n",
    "\n",
    "    private double Steps = 0;\n",
    "    private int activeDays = 0;\n",
    "    private int totalDays = 0;\n",
    "    private double cutoff = 0;\n",
    "\n",
    "    public StepTracker (double Steps) {\n",
    "        this.cutoff = Steps;\n",
    "    }\n",
    "\n",
    "    public void addDailySteps (int Steps) {\n",
    "        this.Steps = this.Steps + Steps;\n",
    "\n",
    "        if (Steps >= cutoff) {\n",
    "            this.activeDays++;\n",
    "        }\n",
    "\n",
    "        this.totalDays++;\n",
    "\n",
    "    }\n",
    "\n",
    "    public int activeDays () {\n",
    "        return activeDays;\n",
    "    }\n",
    "\n",
    "    public double averageSteps() {\n",
    "        return this.Steps/totalDays;\n",
    "    }\n",
    "\n",
    "    public static void main (String[] args) {\n",
    "        StepTracker tr = new StepTracker(10000);\n",
    "        System.out.println(tr.activeDays());\n",
    "        System.out.println(tr.averageSteps());\n",
    "        tr.addDailySteps(9000);\n",
    "        tr.addDailySteps(5000);\n",
    "        System.out.println(tr.activeDays());\n",
    "        System.out.println(tr.averageSteps());\n",
    "        tr.addDailySteps(13000);\n",
    "        System.out.println(tr.activeDays());\n",
    "        System.out.println(tr.averageSteps());\n",
    "        tr.addDailySteps(23000);\n",
    "        tr.addDailySteps(1111);\n",
    "        System.out.println(tr.activeDays());\n",
    "        System.out.println(tr.averageSteps());\n",
    "    }\n",
    "}\n",
    "\n",
    "StepTracker.main(null);"
   ]
  }
 ],
 "metadata": {
  "kernelspec": {
   "display_name": "Java",
   "language": "java",
   "name": "java"
  },
  "language_info": {
   "codemirror_mode": "java",
   "file_extension": ".jshell",
   "mimetype": "text/x-java-source",
   "name": "java",
   "pygments_lexer": "java",
   "version": "11.0.16+8-post-Ubuntu-0ubuntu120.04"
  },
  "orig_nbformat": 4
 },
 "nbformat": 4,
 "nbformat_minor": 2
}
