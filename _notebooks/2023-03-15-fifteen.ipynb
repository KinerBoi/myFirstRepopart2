{
 "cells": [
  {
   "attachments": {},
   "cell_type": "markdown",
   "metadata": {},
   "source": [
    "# Data Types Post\n",
    "> Data Types Post\n",
    "\n",
    "- toc: true\n",
    "- description: Data types blog post for AP CSA\n",
    "- categories: [jupyter]\n",
    "- title: Data Types Post\n",
    "- author: Dylan Luo\n",
    "- show_tags: true\n",
    "- comments: true"
   ]
  },
  {
   "attachments": {},
   "cell_type": "markdown",
   "metadata": {},
   "source": [
    "## 2015 Practice Exam MCQ: 34/39 ##\n",
    "## Test Corrections: ##\n",
    "9. Generate random value of number cubes\n",
    "* Original Answer: D. Correct Answer: E. Math.random() generates a number between 0 and 1, 1 exclusive. By multiplying Math.random() by 6 and adding 1 to it, we are able to generate a number between 1 and 6, both inclusive.\n",
    "15. showMe method with int parameter\n",
    "* Original Answer: C. Correct Answer: A. The showMe method calls itself recursively until arg is equal to 10 (It calls itself with a value that is one more than arg each iteration). The recursion ends when the method prints out \"10.\"\n",
    "19. Loop that prints nothing\n",
    "* Original Answer: A. Correct Answer: E. In condition 1, nothing will print out since the base case is already not satisfied. In condition 2, the initialized value of x is not even so nothing will be printed. In condition 3, since x starts off as 1 and always increments by 2, nothing will be printed since x is never even.\n",
    "26. Methods start and changeIt aliases\n",
    "* Original Answer: C. Correct Answer: E. In this case, the changeIt method creates copies of the parameters, instead actually changing the values of them. Since we are referencing the original variable names, the original variable values will be printed instead of the values of the new variables.\n"
   ]
  }
 ],
 "metadata": {
  "kernelspec": {
   "display_name": "Java",
   "language": "java",
   "name": "java"
  },
  "language_info": {
   "codemirror_mode": "java",
   "file_extension": ".jshell",
   "mimetype": "text/x-java-source",
   "name": "Java",
   "pygments_lexer": "java",
   "version": "11.0.16+8-post-Ubuntu-0ubuntu120.04"
  },
  "orig_nbformat": 4
 },
 "nbformat": 4,
 "nbformat_minor": 2
}
