{
 "cells": [
  {
   "cell_type": "markdown",
   "metadata": {},
   "source": [
    "---\n",
    "toc: true\n",
    "layout: post\n",
    "description: Learning more about how CS can help me in the future!\n",
    "categories: [markdown]\n",
    "title: CSA Alumni Post!\n",
    "---\n",
    "\n",
    "# basics\n",
    "-many people only got really into CS and STEM subjects in general once taking STEM classes such as AP CSP and CSA\n",
    "-Comp sci can help with other majors; helps diversify skill set!!!\n",
    "\n",
    "\n",
    "# Challenges:\n",
    "-starting is the hardest part; everything is confusing at first!\n",
    "    -keeping motivation is key to excelling, solution to everything\n",
    "-EGO CLASH\n",
    "    -dont worry what other people are doing, learn at your own pace and grow!\n",
    "-Dont cut corners just for grade, try to actually learn topic!\n",
    "\n",
    "# PBL scenarios in College CompSci classes?\n",
    "-In UCSD, one hands-on project as a freshman and again as a senior\n",
    "-Theory is good, but practicallity is neccessary to know\n",
    "-PBL + Tests in UC schooling system\n",
    "\n",
    "# How have you applied CS in your major if not majoring in CS?\n",
    "-Knowing how to code can help write algorithms to solve problems in major that you need\n",
    "-Can code out a 3D model; dont need a model to automatically print if needed\n",
    "-High level math courses can use help of CS to write algorithms\n",
    "    -Jupyter notebooks can be used for technical papers and graphs\n",
    "    -Statistics and Calculus in particular\n",
    "\n",
    "# For college students, have you have a job with a proffessor or school?\n",
    "    -Can have jobs at school, need to submit resume\n",
    "    -Can be a TA, intern for proffessor\n",
    "    -AP CSA helped man get internship, work hard and take seriously!!!\n",
    "    -Jobs at Northrupp Gruman\n",
    "\n",
    "# Summary\n",
    "Overall, I enjoyed the presentation. I think a did learn alot about how CS can apply to me in the future, and especially related to Colin, who's majoring in Mechanical Engineering (a major that I am interested in along with CS and Electrical Engineering) and how he ended up relating the two different STEM topics together in order to set him up for success. I also learned a great deal about intersnhips and clubs in UC schools, and hope to get into an internship in either college or for major industrial manufacturing firms and contractors, one good one in the meeting being mentioned (Northrupp Grumman). Hopefully, when I recieve my greencard, I can go beyond and chase those desires! The meeting was really fun and interesting (especially the jokes the alumni came up with) and for my first meeting this is what I took away from the meeting, that no matter what STEM field you will be in there will still be a use for CS. I hope to participate in more of these meetings in the future!\n",
    "\n"
   ]
  }
 ],
 "metadata": {
  "kernelspec": {
   "display_name": "Python 3.8.10 64-bit",
   "language": "python",
   "name": "python3"
  },
  "language_info": {
   "name": "python",
   "version": "3.8.10"
  },
  "orig_nbformat": 4,
  "vscode": {
   "interpreter": {
    "hash": "916dbcbb3f70747c44a77c7bcd40155683ae19c65e1c03b4aa3499c5328201f1"
   }
  }
 },
 "nbformat": 4,
 "nbformat_minor": 2
}
